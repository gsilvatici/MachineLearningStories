{
 "cells": [
  {
   "cell_type": "code",
   "execution_count": 1,
   "id": "8d3794ac",
   "metadata": {},
   "outputs": [],
   "source": [
    "import matplotlib.pyplot as plt\n",
    "import numpy as np\n",
    "import pandas as pd\n",
    "import seaborn as sns\n",
    "import statsmodels.api as sm\n",
    "import statsmodels.formula.api as smf\n",
    "\n",
    "from matplotlib import cm\n",
    "from sklearn.metrics import classification_report\n",
    "from sklearn.model_selection import train_test_split\n",
    "from src.kohonen import Kohonen"
   ]
  },
  {
   "cell_type": "code",
   "execution_count": 2,
   "id": "752084d6",
   "metadata": {},
   "outputs": [
    {
     "data": {
      "text/html": [
       "<div>\n",
       "<style scoped>\n",
       "    .dataframe tbody tr th:only-of-type {\n",
       "        vertical-align: middle;\n",
       "    }\n",
       "\n",
       "    .dataframe tbody tr th {\n",
       "        vertical-align: top;\n",
       "    }\n",
       "\n",
       "    .dataframe thead th {\n",
       "        text-align: right;\n",
       "    }\n",
       "</style>\n",
       "<table border=\"1\" class=\"dataframe\">\n",
       "  <thead>\n",
       "    <tr style=\"text-align: right;\">\n",
       "      <th></th>\n",
       "      <th>sex</th>\n",
       "      <th>age</th>\n",
       "      <th>duracion</th>\n",
       "      <th>choleste</th>\n",
       "      <th>sigdz</th>\n",
       "      <th>tvdlm</th>\n",
       "    </tr>\n",
       "  </thead>\n",
       "  <tbody>\n",
       "    <tr>\n",
       "      <th>0</th>\n",
       "      <td>0</td>\n",
       "      <td>73</td>\n",
       "      <td>132</td>\n",
       "      <td>268.0</td>\n",
       "      <td>1</td>\n",
       "      <td>1.0</td>\n",
       "    </tr>\n",
       "    <tr>\n",
       "      <th>1</th>\n",
       "      <td>0</td>\n",
       "      <td>68</td>\n",
       "      <td>85</td>\n",
       "      <td>120.0</td>\n",
       "      <td>1</td>\n",
       "      <td>1.0</td>\n",
       "    </tr>\n",
       "    <tr>\n",
       "      <th>2</th>\n",
       "      <td>0</td>\n",
       "      <td>54</td>\n",
       "      <td>45</td>\n",
       "      <td>228.0</td>\n",
       "      <td>1</td>\n",
       "      <td>0.0</td>\n",
       "    </tr>\n",
       "    <tr>\n",
       "      <th>3</th>\n",
       "      <td>1</td>\n",
       "      <td>58</td>\n",
       "      <td>86</td>\n",
       "      <td>245.0</td>\n",
       "      <td>0</td>\n",
       "      <td>0.0</td>\n",
       "    </tr>\n",
       "    <tr>\n",
       "      <th>4</th>\n",
       "      <td>1</td>\n",
       "      <td>56</td>\n",
       "      <td>7</td>\n",
       "      <td>269.0</td>\n",
       "      <td>0</td>\n",
       "      <td>0.0</td>\n",
       "    </tr>\n",
       "  </tbody>\n",
       "</table>\n",
       "</div>"
      ],
      "text/plain": [
       "   sex  age  duracion  choleste  sigdz  tvdlm\n",
       "0    0   73       132     268.0      1    1.0\n",
       "1    0   68        85     120.0      1    1.0\n",
       "2    0   54        45     228.0      1    0.0\n",
       "3    1   58        86     245.0      0    0.0\n",
       "4    1   56         7     269.0      0    0.0"
      ]
     },
     "execution_count": 2,
     "metadata": {},
     "output_type": "execute_result"
    }
   ],
   "source": [
    "df = pd.read_csv(\"./datasets/clean_acath.csv\")\n",
    "df.rename(columns={\"cad.dur\": \"duracion\"}, inplace=True)\n",
    "df.head()"
   ]
  },
  {
   "cell_type": "code",
   "execution_count": 3,
   "id": "189eb04e",
   "metadata": {},
   "outputs": [
    {
     "name": "stdout",
     "output_type": "stream",
     "text": [
      " amount with disease: 2332\n",
      " amount without disease: 1169\n"
     ]
    }
   ],
   "source": [
    "with_disease    = df[df['sigdz'] == 1]\n",
    "without_disease = df[df['sigdz'] == 0]\n",
    "print(f\" amount with disease: {len(with_disease)}\")\n",
    "print(f\" amount without disease: {len(without_disease)}\")"
   ]
  },
  {
   "cell_type": "code",
   "execution_count": 4,
   "id": "3f388689",
   "metadata": {},
   "outputs": [],
   "source": [
    "# Balance amount of positive and negative\n",
    "with_disease_sample = with_disease.sample(n=len(without_disease), random_state=69)\n",
    "df = pd.concat([without_disease, with_disease_sample])"
   ]
  },
  {
   "cell_type": "code",
   "execution_count": 5,
   "id": "9df0c364",
   "metadata": {},
   "outputs": [
    {
     "data": {
      "image/png": "[encoded data removed]",
      "text/plain": [
       "<Figure size 720x720 with 1 Axes>"
      ]
     },
     "metadata": {
      "needs_background": "light"
     },
     "output_type": "display_data"
    }
   ],
   "source": [
    "numeric_cols = [\"age\", \"duracion\", \"choleste\"]\n",
    "_, ax = plt.subplots(figsize=(10,10))\n",
    "sns.boxplot(ax=ax, data=df[numeric_cols])\n",
    "plt.show()"
   ]
  },
  {
   "cell_type": "code",
   "execution_count": 6,
   "id": "89d45f6f",
   "metadata": {
    "scrolled": true
   },
   "outputs": [
    {
     "data": {
      "text/html": [
       "<div>\n",
       "<style scoped>\n",
       "    .dataframe tbody tr th:only-of-type {\n",
       "        vertical-align: middle;\n",
       "    }\n",
       "\n",
       "    .dataframe tbody tr th {\n",
       "        vertical-align: top;\n",
       "    }\n",
       "\n",
       "    .dataframe thead th {\n",
       "        text-align: right;\n",
       "    }\n",
       "</style>\n",
       "<table border=\"1\" class=\"dataframe\">\n",
       "  <thead>\n",
       "    <tr style=\"text-align: right;\">\n",
       "      <th></th>\n",
       "      <th>age</th>\n",
       "      <th>duracion</th>\n",
       "      <th>choleste</th>\n",
       "      <th>sigdz</th>\n",
       "    </tr>\n",
       "  </thead>\n",
       "  <tbody>\n",
       "    <tr>\n",
       "      <th>3</th>\n",
       "      <td>0.646010</td>\n",
       "      <td>0.757554</td>\n",
       "      <td>0.460347</td>\n",
       "      <td>0</td>\n",
       "    </tr>\n",
       "    <tr>\n",
       "      <th>4</th>\n",
       "      <td>0.447290</td>\n",
       "      <td>-0.604095</td>\n",
       "      <td>1.048792</td>\n",
       "      <td>0</td>\n",
       "    </tr>\n",
       "    <tr>\n",
       "      <th>11</th>\n",
       "      <td>-1.639269</td>\n",
       "      <td>0.033639</td>\n",
       "      <td>0.754570</td>\n",
       "      <td>0</td>\n",
       "    </tr>\n",
       "    <tr>\n",
       "      <th>12</th>\n",
       "      <td>1.738969</td>\n",
       "      <td>-0.552387</td>\n",
       "      <td>0.190643</td>\n",
       "      <td>0</td>\n",
       "    </tr>\n",
       "    <tr>\n",
       "      <th>20</th>\n",
       "      <td>0.049850</td>\n",
       "      <td>-0.207666</td>\n",
       "      <td>0.337754</td>\n",
       "      <td>0</td>\n",
       "    </tr>\n",
       "    <tr>\n",
       "      <th>...</th>\n",
       "      <td>...</td>\n",
       "      <td>...</td>\n",
       "      <td>...</td>\n",
       "      <td>...</td>\n",
       "    </tr>\n",
       "    <tr>\n",
       "      <th>1042</th>\n",
       "      <td>-1.043110</td>\n",
       "      <td>0.516249</td>\n",
       "      <td>-0.275210</td>\n",
       "      <td>1</td>\n",
       "    </tr>\n",
       "    <tr>\n",
       "      <th>211</th>\n",
       "      <td>0.347930</td>\n",
       "      <td>-0.448971</td>\n",
       "      <td>3.427092</td>\n",
       "      <td>1</td>\n",
       "    </tr>\n",
       "    <tr>\n",
       "      <th>1171</th>\n",
       "      <td>-0.049510</td>\n",
       "      <td>-0.431735</td>\n",
       "      <td>-0.544914</td>\n",
       "      <td>1</td>\n",
       "    </tr>\n",
       "    <tr>\n",
       "      <th>679</th>\n",
       "      <td>1.639609</td>\n",
       "      <td>2.084731</td>\n",
       "      <td>2.863165</td>\n",
       "      <td>1</td>\n",
       "    </tr>\n",
       "    <tr>\n",
       "      <th>307</th>\n",
       "      <td>1.738969</td>\n",
       "      <td>0.257708</td>\n",
       "      <td>0.435828</td>\n",
       "      <td>1</td>\n",
       "    </tr>\n",
       "  </tbody>\n",
       "</table>\n",
       "<p>2338 rows × 4 columns</p>\n",
       "</div>"
      ],
      "text/plain": [
       "           age  duracion  choleste  sigdz\n",
       "3     0.646010  0.757554  0.460347      0\n",
       "4     0.447290 -0.604095  1.048792      0\n",
       "11   -1.639269  0.033639  0.754570      0\n",
       "12    1.738969 -0.552387  0.190643      0\n",
       "20    0.049850 -0.207666  0.337754      0\n",
       "...        ...       ...       ...    ...\n",
       "1042 -1.043110  0.516249 -0.275210      1\n",
       "211   0.347930 -0.448971  3.427092      1\n",
       "1171 -0.049510 -0.431735 -0.544914      1\n",
       "679   1.639609  2.084731  2.863165      1\n",
       "307   1.738969  0.257708  0.435828      1\n",
       "\n",
       "[2338 rows x 4 columns]"
      ]
     },
     "execution_count": 6,
     "metadata": {},
     "output_type": "execute_result"
    }
   ],
   "source": [
    "numeric_cols = [\"age\", \"duracion\", \"choleste\"]\n",
    "df_norm = df[numeric_cols].apply(lambda x: (x-x.mean())/ x.std(), axis=0)\n",
    "df_norm.insert(len(numeric_cols), 'sigdz', df['sigdz'])\n",
    "df_norm"
   ]
  },
  {
   "cell_type": "code",
   "execution_count": 7,
   "id": "2d5efad1",
   "metadata": {},
   "outputs": [
    {
     "data": {
      "image/png": "[encoded data removed]",
      "text/plain": [
       "<Figure size 720x720 with 1 Axes>"
      ]
     },
     "metadata": {
      "needs_background": "light"
     },
     "output_type": "display_data"
    }
   ],
   "source": [
    "_, ax = plt.subplots(figsize=(10,10))\n",
    "sns.boxplot(ax=ax, data=df_norm[numeric_cols])\n",
    "plt.show()"
   ]
  },
  {
   "cell_type": "code",
   "execution_count": 8,
   "id": "893e04d4",
   "metadata": {},
   "outputs": [
    {
     "name": "stdout",
     "output_type": "stream",
     "text": [
      "training amount: 1870\n",
      "testing amount: 468\n"
     ]
    },
    {
     "data": {
      "text/html": [
       "<div>\n",
       "<style scoped>\n",
       "    .dataframe tbody tr th:only-of-type {\n",
       "        vertical-align: middle;\n",
       "    }\n",
       "\n",
       "    .dataframe tbody tr th {\n",
       "        vertical-align: top;\n",
       "    }\n",
       "\n",
       "    .dataframe thead th {\n",
       "        text-align: right;\n",
       "    }\n",
       "</style>\n",
       "<table border=\"1\" class=\"dataframe\">\n",
       "  <thead>\n",
       "    <tr style=\"text-align: right;\">\n",
       "      <th></th>\n",
       "      <th>age</th>\n",
       "      <th>duracion</th>\n",
       "      <th>choleste</th>\n",
       "      <th>sigdz</th>\n",
       "    </tr>\n",
       "  </thead>\n",
       "  <tbody>\n",
       "    <tr>\n",
       "      <th>1934</th>\n",
       "      <td>0.646010</td>\n",
       "      <td>-0.673040</td>\n",
       "      <td>-1.599212</td>\n",
       "      <td>1</td>\n",
       "    </tr>\n",
       "    <tr>\n",
       "      <th>327</th>\n",
       "      <td>0.546650</td>\n",
       "      <td>1.395288</td>\n",
       "      <td>0.386791</td>\n",
       "      <td>0</td>\n",
       "    </tr>\n",
       "    <tr>\n",
       "      <th>395</th>\n",
       "      <td>1.738969</td>\n",
       "      <td>-0.552387</td>\n",
       "      <td>0.435828</td>\n",
       "      <td>1</td>\n",
       "    </tr>\n",
       "    <tr>\n",
       "      <th>343</th>\n",
       "      <td>1.341530</td>\n",
       "      <td>-0.500679</td>\n",
       "      <td>-0.152617</td>\n",
       "      <td>1</td>\n",
       "    </tr>\n",
       "    <tr>\n",
       "      <th>3474</th>\n",
       "      <td>0.248570</td>\n",
       "      <td>-0.414499</td>\n",
       "      <td>-1.010766</td>\n",
       "      <td>0</td>\n",
       "    </tr>\n",
       "  </tbody>\n",
       "</table>\n",
       "</div>"
      ],
      "text/plain": [
       "           age  duracion  choleste  sigdz\n",
       "1934  0.646010 -0.673040 -1.599212      1\n",
       "327   0.546650  1.395288  0.386791      0\n",
       "395   1.738969 -0.552387  0.435828      1\n",
       "343   1.341530 -0.500679 -0.152617      1\n",
       "3474  0.248570 -0.414499 -1.010766      0"
      ]
     },
     "execution_count": 8,
     "metadata": {},
     "output_type": "execute_result"
    }
   ],
   "source": [
    "train, test = train_test_split(df_norm, test_size=0.2, random_state=69)\n",
    "print(f\"training amount: {len(train)}\\ntesting amount: {len(test)}\")\n",
    "train.head()"
   ]
  },
  {
   "cell_type": "code",
   "execution_count": 148,
   "id": "f6f0ef6d",
   "metadata": {},
   "outputs": [
    {
     "name": "stdout",
     "output_type": "stream",
     "text": [
      "Epoch: 5\n",
      "Epoch: 10\n",
      "Epoch: 15\n",
      "Epoch: 20\n",
      "Epoch: 25\n",
      "Epoch: 30\n",
      "Epoch: 35\n",
      "Epoch: 40\n"
     ]
    }
   ],
   "source": [
    "X = df_norm.iloc[:, :-1].to_numpy()\n",
    "model = Kohonen(\n",
    "    input_size=3,\n",
    "    k=10,\n",
    "    epochs=40\n",
    ")\n",
    "model.fit(X)"
   ]
  },
  {
   "cell_type": "code",
   "execution_count": 140,
   "id": "9987e6db",
   "metadata": {},
   "outputs": [],
   "source": [
    "def create_count_matrix(data, model, data_columns, result_column):\n",
    "        k = len(model.output_neurons)\n",
    "        count_matrix = [[[0, 0] for _ in range(k)] for _ in range(k)]\n",
    "        for _, row in data.iterrows():\n",
    "            xp = row[data_columns].to_numpy()\n",
    "            coords = model.predict(xp)\n",
    "            count_matrix[coords[0]][coords[1]][int(row[result_column])] += 1\n",
    "            \n",
    "        return count_matrix"
   ]
  },
  {
   "cell_type": "code",
   "execution_count": 141,
   "id": "9eaccad7",
   "metadata": {},
   "outputs": [
    {
     "name": "stdout",
     "output_type": "stream",
     "text": [
      "2338\n"
     ]
    }
   ],
   "source": [
    "count_matrix = create_count_matrix(df_norm, model, numeric_cols, 'sigdz')\n",
    "print(np.array(count_matrix).sum())"
   ]
  },
  {
   "cell_type": "code",
   "execution_count": 142,
   "id": "4f70d53c",
   "metadata": {},
   "outputs": [],
   "source": [
    "def classify_kohonen(data, model, data_columns, result_column):\n",
    "    matrix = model.output_neurons\n",
    "    k = len(matrix)\n",
    "    class_matrix = [[None for x in range(k)] for y in range(k)]\n",
    "    count_matrix = create_count_matrix(data, model, data_columns, result_column)\n",
    "    for i in range(k):\n",
    "        for j in range(k):\n",
    "            if count_matrix[i][j][0] == 0 and count_matrix[i][j][1] == 0:\n",
    "                class_matrix[i][j] = None\n",
    "            elif count_matrix[i][j][0] >= count_matrix[i][j][1]:\n",
    "                class_matrix[i][j] = 0\n",
    "            else: \n",
    "                 class_matrix[i][j] = 1\n",
    "    \n",
    "    return class_matrix"
   ]
  },
  {
   "cell_type": "code",
   "execution_count": 143,
   "id": "da3a01cd",
   "metadata": {},
   "outputs": [],
   "source": [
    "grid = classify_kohonen(df_norm, model, numeric_cols, 'sigdz')"
   ]
  },
  {
   "cell_type": "code",
   "execution_count": 144,
   "id": "a9a97f6b",
   "metadata": {},
   "outputs": [
    {
     "data": {
      "image/png": "[encoded data removed]",
      "text/plain": [
       "<Figure size 432x288 with 1 Axes>"
      ]
     },
     "metadata": {
      "needs_background": "light"
     },
     "output_type": "display_data"
    }
   ],
   "source": [
    "sigdz_matrix = pd.DataFrame(grid).fillna(-1)\n",
    "sns.heatmap(sigdz_matrix, annot=True, cmap=\"Blues\", fmt=\"g\", cbar=False)\n",
    "plt.show()"
   ]
  },
  {
   "cell_type": "code",
   "execution_count": 145,
   "id": "ac09ae4a",
   "metadata": {},
   "outputs": [],
   "source": [
    "pred = []\n",
    "for index, row in test.iterrows():\n",
    "    y = row[numeric_cols].to_numpy()\n",
    "    row, col = model.predict(y)\n",
    "    pred.append(grid[row][col])"
   ]
  },
  {
   "cell_type": "code",
   "execution_count": 146,
   "id": "3c27b42a",
   "metadata": {},
   "outputs": [
    {
     "data": {
      "text/html": [
       "<div>\n",
       "<style scoped>\n",
       "    .dataframe tbody tr th:only-of-type {\n",
       "        vertical-align: middle;\n",
       "    }\n",
       "\n",
       "    .dataframe tbody tr th {\n",
       "        vertical-align: top;\n",
       "    }\n",
       "\n",
       "    .dataframe thead th {\n",
       "        text-align: right;\n",
       "    }\n",
       "</style>\n",
       "<table border=\"1\" class=\"dataframe\">\n",
       "  <thead>\n",
       "    <tr style=\"text-align: right;\">\n",
       "      <th></th>\n",
       "      <th>y_actual</th>\n",
       "      <th>y_predicted</th>\n",
       "    </tr>\n",
       "  </thead>\n",
       "  <tbody>\n",
       "    <tr>\n",
       "      <th>0</th>\n",
       "      <td>0</td>\n",
       "      <td>1</td>\n",
       "    </tr>\n",
       "    <tr>\n",
       "      <th>1</th>\n",
       "      <td>0</td>\n",
       "      <td>1</td>\n",
       "    </tr>\n",
       "    <tr>\n",
       "      <th>2</th>\n",
       "      <td>1</td>\n",
       "      <td>1</td>\n",
       "    </tr>\n",
       "    <tr>\n",
       "      <th>3</th>\n",
       "      <td>1</td>\n",
       "      <td>1</td>\n",
       "    </tr>\n",
       "    <tr>\n",
       "      <th>4</th>\n",
       "      <td>1</td>\n",
       "      <td>1</td>\n",
       "    </tr>\n",
       "  </tbody>\n",
       "</table>\n",
       "</div>"
      ],
      "text/plain": [
       "   y_actual  y_predicted\n",
       "0         0            1\n",
       "1         0            1\n",
       "2         1            1\n",
       "3         1            1\n",
       "4         1            1"
      ]
     },
     "execution_count": 146,
     "metadata": {},
     "output_type": "execute_result"
    }
   ],
   "source": [
    "data = {\n",
    "    'y_actual': list(test[\"sigdz\"]),\n",
    "    'y_predicted': list(pred)\n",
    "}\n",
    "conf = pd.DataFrame(data, columns=['y_actual','y_predicted'])\n",
    "conf.head()"
   ]
  },
  {
   "cell_type": "code",
   "execution_count": 147,
   "id": "e28d4fba",
   "metadata": {},
   "outputs": [
    {
     "data": {
      "image/png": "[encoded data removed]",
      "text/plain": [
       "<Figure size 432x288 with 1 Axes>"
      ]
     },
     "metadata": {
      "needs_background": "light"
     },
     "output_type": "display_data"
    },
    {
     "name": "stdout",
     "output_type": "stream",
     "text": [
      "              precision    recall  f1-score   support\n",
      "\n",
      "           0       0.68      0.57      0.62       236\n",
      "           1       0.62      0.73      0.67       232\n",
      "\n",
      "    accuracy                           0.65       468\n",
      "   macro avg       0.65      0.65      0.65       468\n",
      "weighted avg       0.65      0.65      0.65       468\n",
      "\n"
     ]
    }
   ],
   "source": [
    "confusion_matrix = pd.crosstab(conf['y_actual'], conf['y_predicted'], rownames=['Actual'], colnames=['Predicted'])\n",
    "sns.heatmap(confusion_matrix, annot=True, cmap=\"Blues\", fmt=\"g\", cbar=False)\n",
    "plt.show()\n",
    "print(classification_report(conf['y_actual'], conf['y_predicted']))"
   ]
  }
 ],
 "metadata": {
  "kernelspec": {
   "display_name": "Python 3 (ipykernel)",
   "language": "python",
   "name": "python3"
  },
  "language_info": {
   "codemirror_mode": {
    "name": "ipython",
    "version": 3
   },
   "file_extension": ".py",
   "mimetype": "text/x-python",
   "name": "python",
   "nbconvert_exporter": "python",
   "pygments_lexer": "ipython3",
   "version": "3.8.10"
  }
 },
 "nbformat": 4,
 "nbformat_minor": 5
}
