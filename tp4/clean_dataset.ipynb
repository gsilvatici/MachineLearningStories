{
 "cells": [
  {
   "cell_type": "code",
   "execution_count": 1,
   "id": "8089bfef",
   "metadata": {},
   "outputs": [],
   "source": [
    "import numpy as np\n",
    "import pandas as pd"
   ]
  },
  {
   "cell_type": "code",
   "execution_count": 32,
   "id": "65520945",
   "metadata": {},
   "outputs": [
    {
     "data": {
      "text/html": [
       "<div>\n",
       "<style scoped>\n",
       "    .dataframe tbody tr th:only-of-type {\n",
       "        vertical-align: middle;\n",
       "    }\n",
       "\n",
       "    .dataframe tbody tr th {\n",
       "        vertical-align: top;\n",
       "    }\n",
       "\n",
       "    .dataframe thead th {\n",
       "        text-align: right;\n",
       "    }\n",
       "</style>\n",
       "<table border=\"1\" class=\"dataframe\">\n",
       "  <thead>\n",
       "    <tr style=\"text-align: right;\">\n",
       "      <th></th>\n",
       "      <th>sex</th>\n",
       "      <th>age</th>\n",
       "      <th>cad.dur</th>\n",
       "      <th>choleste</th>\n",
       "      <th>sigdz</th>\n",
       "      <th>tvdlm</th>\n",
       "    </tr>\n",
       "  </thead>\n",
       "  <tbody>\n",
       "    <tr>\n",
       "      <th>0</th>\n",
       "      <td>0</td>\n",
       "      <td>73</td>\n",
       "      <td>132</td>\n",
       "      <td>268.0</td>\n",
       "      <td>1</td>\n",
       "      <td>1.0</td>\n",
       "    </tr>\n",
       "    <tr>\n",
       "      <th>1</th>\n",
       "      <td>0</td>\n",
       "      <td>68</td>\n",
       "      <td>85</td>\n",
       "      <td>120.0</td>\n",
       "      <td>1</td>\n",
       "      <td>1.0</td>\n",
       "    </tr>\n",
       "    <tr>\n",
       "      <th>2</th>\n",
       "      <td>0</td>\n",
       "      <td>54</td>\n",
       "      <td>45</td>\n",
       "      <td>NaN</td>\n",
       "      <td>1</td>\n",
       "      <td>0.0</td>\n",
       "    </tr>\n",
       "    <tr>\n",
       "      <th>3</th>\n",
       "      <td>1</td>\n",
       "      <td>58</td>\n",
       "      <td>86</td>\n",
       "      <td>245.0</td>\n",
       "      <td>0</td>\n",
       "      <td>0.0</td>\n",
       "    </tr>\n",
       "    <tr>\n",
       "      <th>4</th>\n",
       "      <td>1</td>\n",
       "      <td>56</td>\n",
       "      <td>7</td>\n",
       "      <td>269.0</td>\n",
       "      <td>0</td>\n",
       "      <td>0.0</td>\n",
       "    </tr>\n",
       "  </tbody>\n",
       "</table>\n",
       "</div>"
      ],
      "text/plain": [
       "   sex  age  cad.dur  choleste  sigdz  tvdlm\n",
       "0    0   73      132     268.0      1    1.0\n",
       "1    0   68       85     120.0      1    1.0\n",
       "2    0   54       45       NaN      1    0.0\n",
       "3    1   58       86     245.0      0    0.0\n",
       "4    1   56        7     269.0      0    0.0"
      ]
     },
     "execution_count": 32,
     "metadata": {},
     "output_type": "execute_result"
    }
   ],
   "source": [
    "df = pd.read_excel('datasets/acath.xlsx')\n",
    "df.head()"
   ]
  },
  {
   "cell_type": "markdown",
   "id": "3e4c458b",
   "metadata": {},
   "source": [
    "## Validamos datos"
   ]
  },
  {
   "cell_type": "code",
   "execution_count": 36,
   "id": "30a3056e",
   "metadata": {},
   "outputs": [
    {
     "name": "stdout",
     "output_type": "stream",
     "text": [
      "filas con duracion 0: 123\n"
     ]
    },
    {
     "data": {
      "text/plain": [
       "sex          0\n",
       "age          0\n",
       "cad.dur      0\n",
       "choleste    95\n",
       "sigdz        0\n",
       "tvdlm        0\n",
       "dtype: int64"
      ]
     },
     "execution_count": 36,
     "metadata": {},
     "output_type": "execute_result"
    }
   ],
   "source": [
    "dur0 = df[df[\"cad.dur\"] == 0]\n",
    "print(f\"filas con duracion 0: {len(dur0)}\")\n",
    "dur0.isna().sum()"
   ]
  },
  {
   "cell_type": "markdown",
   "id": "c47489c5",
   "metadata": {},
   "source": [
    "Hay 123 filas con duracion 0, ademas la mayoria de estas filas tiene algun tipo de dato faltante. Duracion 0 parece un valor extraño pero hay valores con duracion 0 tanto con enfermedad coronaria y sin, por lo que no es un valor exclusivo de los que no presentan sintomas o algo asi. Teniendo en cuenta que hay NaNs en el dataset, supongo que es un valor puesto adrede, ademas aunque no lo fuera son pocos datos comparados al resto del dataset asi que no creo que afecte mucho."
   ]
  },
  {
   "cell_type": "markdown",
   "id": "90d7aa9d",
   "metadata": {},
   "source": [
    "## Chequeamos datos faltantes"
   ]
  },
  {
   "cell_type": "code",
   "execution_count": 3,
   "id": "a57d95c8",
   "metadata": {},
   "outputs": [
    {
     "data": {
      "text/plain": [
       "sex            0\n",
       "age            0\n",
       "cad.dur        0\n",
       "choleste    1246\n",
       "sigdz          0\n",
       "tvdlm          3\n",
       "dtype: int64"
      ]
     },
     "execution_count": 3,
     "metadata": {},
     "output_type": "execute_result"
    }
   ],
   "source": [
    "df.isna().sum()"
   ]
  },
  {
   "cell_type": "markdown",
   "id": "50173ca7",
   "metadata": {},
   "source": [
    "### Estrategia para reemplazar datos faltantes\n",
    "\n",
    "La mayoria de los datos faltantes se encuentran en colesterol, asi que obtenemos la mediana de colesterol de la gente que tenga el mismo rango de edad, mismo sexo y mismo sigdz"
   ]
  },
  {
   "cell_type": "markdown",
   "id": "814a443e",
   "metadata": {},
   "source": [
    "#### 1. Separamos edad en rangos"
   ]
  },
  {
   "cell_type": "code",
   "execution_count": 4,
   "id": "6f4276bd",
   "metadata": {},
   "outputs": [
    {
     "data": {
      "text/plain": [
       "array([[<AxesSubplot:title={'center':'age'}>]], dtype=object)"
      ]
     },
     "execution_count": 4,
     "metadata": {},
     "output_type": "execute_result"
    },
    {
     "data": {
      "image/png": "[encoded data removed]",
      "text/plain": [
       "<Figure size 432x288 with 1 Axes>"
      ]
     },
     "metadata": {
      "needs_background": "light"
     },
     "output_type": "display_data"
    }
   ],
   "source": [
    "df.hist(column='age', grid=False, color='cyan', ec='black')"
   ]
  },
  {
   "cell_type": "code",
   "execution_count": 5,
   "id": "7f952d47",
   "metadata": {},
   "outputs": [
    {
     "name": "stdout",
     "output_type": "stream",
     "text": [
      "0       (57.0, 82.0]\n",
      "1       (57.0, 82.0]\n",
      "2       (48.0, 57.0]\n",
      "3       (57.0, 82.0]\n",
      "4       (48.0, 57.0]\n",
      "            ...     \n",
      "3499    (57.0, 82.0]\n",
      "3500    (57.0, 82.0]\n",
      "3501    (57.0, 82.0]\n",
      "3502    (57.0, 82.0]\n",
      "3503    (57.0, 82.0]\n",
      "Name: age, Length: 3504, dtype: category\n",
      "Categories (3, interval[float64, right]): [(16.999, 48.0] < (48.0, 57.0] < (57.0, 82.0]]\n"
     ]
    }
   ],
   "source": [
    "print(pd.qcut(df['age'], 3))"
   ]
  },
  {
   "cell_type": "code",
   "execution_count": 6,
   "id": "1ccf0277",
   "metadata": {},
   "outputs": [
    {
     "name": "stdout",
     "output_type": "stream",
     "text": [
      "Cantidad de elementos por categoria\n",
      "Categoria 1: 1109\n",
      "Categoria 2: 1034\n",
      "Categoria 3: 1361\n"
     ]
    }
   ],
   "source": [
    "age = df['age']\n",
    "cat1 = df[age < 48]\n",
    "cat2 = df[(age >= 48) & (age < 56)]\n",
    "cat3 = df[(age >= 56)]\n",
    "\n",
    "print(f\"Cantidad de elementos por categoria\")\n",
    "print(f\"Categoria 1: {len(cat1)}\")\n",
    "print(f\"Categoria 2: {len(cat2)}\")\n",
    "print(f\"Categoria 3: {len(cat3)}\")"
   ]
  },
  {
   "cell_type": "markdown",
   "id": "3fb8209b",
   "metadata": {},
   "source": [
    "#### 2. Reemplazamos valores de colesterol"
   ]
  },
  {
   "cell_type": "code",
   "execution_count": 7,
   "id": "b5daf924",
   "metadata": {},
   "outputs": [],
   "source": [
    "data = df.copy()\n",
    "for i, row in data.iterrows():\n",
    "    if not np.isnan(row[\"choleste\"]):\n",
    "        continue\n",
    "    cat = row[\"age\"]\n",
    "    sex = (df[\"sex\"] == row[\"sex\"])\n",
    "    sick = (df[\"sigdz\"] == row[\"sigdz\"])\n",
    "    \n",
    "    if cat < 48:\n",
    "        age = df[\"age\"] < 48\n",
    "    elif cat >= 48 and cat < 56:\n",
    "        age = (df[\"age\"] >= 48) & (df[\"age\"] < 56)\n",
    "    else:\n",
    "        age = df[\"age\"] >= 56\n",
    "    chol = round(df[sex & age & sick].median()[\"choleste\"])\n",
    "    data.at[i, \"choleste\"] = chol"
   ]
  },
  {
   "cell_type": "code",
   "execution_count": 8,
   "id": "3d122cf6",
   "metadata": {},
   "outputs": [
    {
     "data": {
      "text/plain": [
       "sex         0\n",
       "age         0\n",
       "cad.dur     0\n",
       "choleste    0\n",
       "sigdz       0\n",
       "tvdlm       3\n",
       "dtype: int64"
      ]
     },
     "execution_count": 8,
     "metadata": {},
     "output_type": "execute_result"
    }
   ],
   "source": [
    "data.isna().sum()"
   ]
  },
  {
   "cell_type": "markdown",
   "id": "10a3abd8",
   "metadata": {},
   "source": [
    "Como `tvdlm` solo tiene 3 NaN los descartamos ya que son poquitos"
   ]
  },
  {
   "cell_type": "code",
   "execution_count": 9,
   "id": "349e1246",
   "metadata": {},
   "outputs": [],
   "source": [
    "data = data.dropna()"
   ]
  },
  {
   "cell_type": "code",
   "execution_count": 10,
   "id": "f7cc690a",
   "metadata": {},
   "outputs": [
    {
     "data": {
      "text/plain": [
       "sex         0\n",
       "age         0\n",
       "cad.dur     0\n",
       "choleste    0\n",
       "sigdz       0\n",
       "tvdlm       0\n",
       "dtype: int64"
      ]
     },
     "execution_count": 10,
     "metadata": {},
     "output_type": "execute_result"
    }
   ],
   "source": [
    "data.isna().sum()"
   ]
  },
  {
   "cell_type": "code",
   "execution_count": 11,
   "id": "e3117d6d",
   "metadata": {},
   "outputs": [],
   "source": [
    "data.to_csv('./datasets/clean_acath.csv', index=False)"
   ]
  }
 ],
 "metadata": {
  "kernelspec": {
   "display_name": "Python 3 (ipykernel)",
   "language": "python",
   "name": "python3"
  },
  "language_info": {
   "codemirror_mode": {
    "name": "ipython",
    "version": 3
   },
   "file_extension": ".py",
   "mimetype": "text/x-python",
   "name": "python",
   "nbconvert_exporter": "python",
   "pygments_lexer": "ipython3",
   "version": "3.8.10"
  }
 },
 "nbformat": 4,
 "nbformat_minor": 5
}
