{
 "cells": [
  {
   "cell_type": "code",
   "execution_count": 222,
   "id": "4f7c17b0",
   "metadata": {},
   "outputs": [],
   "source": [
    "import matplotlib.pyplot as plt\n",
    "import numpy as np\n",
    "import pandas as pd\n",
    "import seaborn as sns\n",
    "import statsmodels.api as sm\n",
    "import statsmodels.formula.api as smf\n",
    "\n",
    "from sklearn.metrics import classification_report\n",
    "from sklearn.model_selection import train_test_split"
   ]
  },
  {
   "cell_type": "markdown",
   "id": "a3026801",
   "metadata": {},
   "source": [
    "## Reading Dataset"
   ]
  },
  {
   "cell_type": "code",
   "execution_count": 223,
   "id": "1d8a94d2",
   "metadata": {},
   "outputs": [
    {
     "data": {
      "text/html": [
       "<div>\n",
       "<style scoped>\n",
       "    .dataframe tbody tr th:only-of-type {\n",
       "        vertical-align: middle;\n",
       "    }\n",
       "\n",
       "    .dataframe tbody tr th {\n",
       "        vertical-align: top;\n",
       "    }\n",
       "\n",
       "    .dataframe thead th {\n",
       "        text-align: right;\n",
       "    }\n",
       "</style>\n",
       "<table border=\"1\" class=\"dataframe\">\n",
       "  <thead>\n",
       "    <tr style=\"text-align: right;\">\n",
       "      <th></th>\n",
       "      <th>sex</th>\n",
       "      <th>age</th>\n",
       "      <th>duracion</th>\n",
       "      <th>choleste</th>\n",
       "      <th>sigdz</th>\n",
       "      <th>tvdlm</th>\n",
       "    </tr>\n",
       "  </thead>\n",
       "  <tbody>\n",
       "    <tr>\n",
       "      <th>0</th>\n",
       "      <td>0</td>\n",
       "      <td>73</td>\n",
       "      <td>132</td>\n",
       "      <td>268.0</td>\n",
       "      <td>1</td>\n",
       "      <td>1.0</td>\n",
       "    </tr>\n",
       "    <tr>\n",
       "      <th>1</th>\n",
       "      <td>0</td>\n",
       "      <td>68</td>\n",
       "      <td>85</td>\n",
       "      <td>120.0</td>\n",
       "      <td>1</td>\n",
       "      <td>1.0</td>\n",
       "    </tr>\n",
       "    <tr>\n",
       "      <th>2</th>\n",
       "      <td>0</td>\n",
       "      <td>54</td>\n",
       "      <td>45</td>\n",
       "      <td>228.0</td>\n",
       "      <td>1</td>\n",
       "      <td>0.0</td>\n",
       "    </tr>\n",
       "    <tr>\n",
       "      <th>3</th>\n",
       "      <td>1</td>\n",
       "      <td>58</td>\n",
       "      <td>86</td>\n",
       "      <td>245.0</td>\n",
       "      <td>0</td>\n",
       "      <td>0.0</td>\n",
       "    </tr>\n",
       "    <tr>\n",
       "      <th>4</th>\n",
       "      <td>1</td>\n",
       "      <td>56</td>\n",
       "      <td>7</td>\n",
       "      <td>269.0</td>\n",
       "      <td>0</td>\n",
       "      <td>0.0</td>\n",
       "    </tr>\n",
       "  </tbody>\n",
       "</table>\n",
       "</div>"
      ],
      "text/plain": [
       "   sex  age  duracion  choleste  sigdz  tvdlm\n",
       "0    0   73       132     268.0      1    1.0\n",
       "1    0   68        85     120.0      1    1.0\n",
       "2    0   54        45     228.0      1    0.0\n",
       "3    1   58        86     245.0      0    0.0\n",
       "4    1   56         7     269.0      0    0.0"
      ]
     },
     "execution_count": 223,
     "metadata": {},
     "output_type": "execute_result"
    }
   ],
   "source": [
    "df = pd.read_csv(\"./datasets/clean_acath.csv\")\n",
    "df.rename(columns={\"cad.dur\": \"duracion\"}, inplace=True)\n",
    "df.head()"
   ]
  },
  {
   "cell_type": "code",
   "execution_count": 224,
   "id": "77e36a87",
   "metadata": {},
   "outputs": [
    {
     "name": "stdout",
     "output_type": "stream",
     "text": [
      " amount with disease: 2332\n",
      " amount without disease: 1169\n"
     ]
    }
   ],
   "source": [
    "with_disease    = df[df['sigdz'] == 1]\n",
    "without_disease = df[df['sigdz'] == 0]\n",
    "print(f\" amount with disease: {len(with_disease)}\")\n",
    "print(f\" amount without disease: {len(without_disease)}\")"
   ]
  },
  {
   "cell_type": "code",
   "execution_count": 225,
   "id": "159845d3",
   "metadata": {},
   "outputs": [],
   "source": [
    "# Balance amount of positive and negative\n",
    "with_disease_sample = with_disease.sample(n=len(without_disease))\n",
    "df = pd.concat([without_disease, with_disease_sample])"
   ]
  },
  {
   "cell_type": "code",
   "execution_count": 226,
   "id": "e2a5c71d",
   "metadata": {},
   "outputs": [
    {
     "data": {
      "text/plain": [
       "sex         0\n",
       "age         0\n",
       "duracion    0\n",
       "choleste    0\n",
       "sigdz       0\n",
       "tvdlm       0\n",
       "dtype: int64"
      ]
     },
     "execution_count": 226,
     "metadata": {},
     "output_type": "execute_result"
    }
   ],
   "source": [
    "# Double check no Nans\n",
    "df.isna().sum()"
   ]
  },
  {
   "cell_type": "code",
   "execution_count": 227,
   "id": "7efacdf8",
   "metadata": {},
   "outputs": [
    {
     "data": {
      "text/html": [
       "<div>\n",
       "<style scoped>\n",
       "    .dataframe tbody tr th:only-of-type {\n",
       "        vertical-align: middle;\n",
       "    }\n",
       "\n",
       "    .dataframe tbody tr th {\n",
       "        vertical-align: top;\n",
       "    }\n",
       "\n",
       "    .dataframe thead th {\n",
       "        text-align: right;\n",
       "    }\n",
       "</style>\n",
       "<table border=\"1\" class=\"dataframe\">\n",
       "  <thead>\n",
       "    <tr style=\"text-align: right;\">\n",
       "      <th></th>\n",
       "      <th>sex</th>\n",
       "      <th>age</th>\n",
       "      <th>duracion</th>\n",
       "      <th>choleste</th>\n",
       "      <th>sigdz</th>\n",
       "      <th>tvdlm</th>\n",
       "    </tr>\n",
       "  </thead>\n",
       "  <tbody>\n",
       "  </tbody>\n",
       "</table>\n",
       "</div>"
      ],
      "text/plain": [
       "Empty DataFrame\n",
       "Columns: [sex, age, duracion, choleste, sigdz, tvdlm]\n",
       "Index: []"
      ]
     },
     "execution_count": 227,
     "metadata": {},
     "output_type": "execute_result"
    }
   ],
   "source": [
    "# Siempre tvdlm es como sigdz pero peor, la meto en el modelo? (creo que no)\n",
    "df[(df[\"sigdz\"] == 0) & (df[\"tvdlm\"] == 1)]"
   ]
  },
  {
   "cell_type": "markdown",
   "id": "df73c15c",
   "metadata": {},
   "source": [
    "### 1.a) Dividir aleatoriamente el conjunto de datos en dos conjuntos, uno de entrenamiento y uno de prueba"
   ]
  },
  {
   "cell_type": "code",
   "execution_count": 228,
   "id": "e9ce717a",
   "metadata": {},
   "outputs": [
    {
     "name": "stdout",
     "output_type": "stream",
     "text": [
      "training amount: 1870\n",
      "testing amount: 468\n"
     ]
    },
    {
     "data": {
      "text/html": [
       "<div>\n",
       "<style scoped>\n",
       "    .dataframe tbody tr th:only-of-type {\n",
       "        vertical-align: middle;\n",
       "    }\n",
       "\n",
       "    .dataframe tbody tr th {\n",
       "        vertical-align: top;\n",
       "    }\n",
       "\n",
       "    .dataframe thead th {\n",
       "        text-align: right;\n",
       "    }\n",
       "</style>\n",
       "<table border=\"1\" class=\"dataframe\">\n",
       "  <thead>\n",
       "    <tr style=\"text-align: right;\">\n",
       "      <th></th>\n",
       "      <th>sex</th>\n",
       "      <th>age</th>\n",
       "      <th>duracion</th>\n",
       "      <th>choleste</th>\n",
       "      <th>sigdz</th>\n",
       "      <th>tvdlm</th>\n",
       "    </tr>\n",
       "  </thead>\n",
       "  <tbody>\n",
       "    <tr>\n",
       "      <th>536</th>\n",
       "      <td>0</td>\n",
       "      <td>41</td>\n",
       "      <td>132</td>\n",
       "      <td>259.0</td>\n",
       "      <td>1</td>\n",
       "      <td>1.0</td>\n",
       "    </tr>\n",
       "    <tr>\n",
       "      <th>327</th>\n",
       "      <td>0</td>\n",
       "      <td>57</td>\n",
       "      <td>123</td>\n",
       "      <td>242.0</td>\n",
       "      <td>0</td>\n",
       "      <td>0.0</td>\n",
       "    </tr>\n",
       "    <tr>\n",
       "      <th>2251</th>\n",
       "      <td>0</td>\n",
       "      <td>51</td>\n",
       "      <td>11</td>\n",
       "      <td>242.0</td>\n",
       "      <td>1</td>\n",
       "      <td>0.0</td>\n",
       "    </tr>\n",
       "    <tr>\n",
       "      <th>1241</th>\n",
       "      <td>0</td>\n",
       "      <td>54</td>\n",
       "      <td>9</td>\n",
       "      <td>228.0</td>\n",
       "      <td>1</td>\n",
       "      <td>0.0</td>\n",
       "    </tr>\n",
       "    <tr>\n",
       "      <th>3474</th>\n",
       "      <td>0</td>\n",
       "      <td>54</td>\n",
       "      <td>18</td>\n",
       "      <td>185.0</td>\n",
       "      <td>0</td>\n",
       "      <td>0.0</td>\n",
       "    </tr>\n",
       "  </tbody>\n",
       "</table>\n",
       "</div>"
      ],
      "text/plain": [
       "      sex  age  duracion  choleste  sigdz  tvdlm\n",
       "536     0   41       132     259.0      1    1.0\n",
       "327     0   57       123     242.0      0    0.0\n",
       "2251    0   51        11     242.0      1    0.0\n",
       "1241    0   54         9     228.0      1    0.0\n",
       "3474    0   54        18     185.0      0    0.0"
      ]
     },
     "execution_count": 228,
     "metadata": {},
     "output_type": "execute_result"
    }
   ],
   "source": [
    "train, test = train_test_split(df, test_size=0.2, random_state=69)\n",
    "print(f\"training amount: {len(train)}\\ntesting amount: {len(test)}\")\n",
    "train.head()"
   ]
  },
  {
   "cell_type": "markdown",
   "id": "f05e5e6c",
   "metadata": {},
   "source": [
    "### 1.b) Clasificar la variable categórica sigdz que indica si el paciente posee o no una enfermedad coronaria, utilizando el modelo de regresión logística y las variables numéricas. Calcular la matriz de confusión y evaluar la influencia de cada una de las variables en la probabilidad calculada"
   ]
  },
  {
   "cell_type": "code",
   "execution_count": 229,
   "id": "a4462ef9",
   "metadata": {},
   "outputs": [
    {
     "data": {
      "text/html": [
       "<table class=\"simpletable\">\n",
       "<caption>Generalized Linear Model Regression Results</caption>\n",
       "<tr>\n",
       "  <th>Dep. Variable:</th>         <td>sigdz</td>      <th>  No. Observations:  </th>  <td>  1870</td> \n",
       "</tr>\n",
       "<tr>\n",
       "  <th>Model:</th>                  <td>GLM</td>       <th>  Df Residuals:      </th>  <td>  1866</td> \n",
       "</tr>\n",
       "<tr>\n",
       "  <th>Model Family:</th>        <td>Binomial</td>     <th>  Df Model:          </th>  <td>     3</td> \n",
       "</tr>\n",
       "<tr>\n",
       "  <th>Link Function:</th>         <td>Logit</td>      <th>  Scale:             </th> <td>  1.0000</td>\n",
       "</tr>\n",
       "<tr>\n",
       "  <th>Method:</th>                <td>IRLS</td>       <th>  Log-Likelihood:    </th> <td> -1201.7</td>\n",
       "</tr>\n",
       "<tr>\n",
       "  <th>Date:</th>            <td>Fri, 19 Nov 2021</td> <th>  Deviance:          </th> <td>  2403.4</td>\n",
       "</tr>\n",
       "<tr>\n",
       "  <th>Time:</th>                <td>17:29:10</td>     <th>  Pearson chi2:      </th> <td>1.88e+03</td>\n",
       "</tr>\n",
       "<tr>\n",
       "  <th>No. Iterations:</th>          <td>4</td>        <th>  Pseudo R-squ. (CS):</th>  <td>0.09613</td>\n",
       "</tr>\n",
       "<tr>\n",
       "  <th>Covariance Type:</th>     <td>nonrobust</td>    <th>                     </th>     <td> </td>   \n",
       "</tr>\n",
       "</table>\n",
       "<table class=\"simpletable\">\n",
       "<tr>\n",
       "      <td></td>         <th>coef</th>     <th>std err</th>      <th>z</th>      <th>P>|z|</th>  <th>[0.025</th>    <th>0.975]</th>  \n",
       "</tr>\n",
       "<tr>\n",
       "  <th>Intercept</th> <td>   -4.9247</td> <td>    0.411</td> <td>  -11.979</td> <td> 0.000</td> <td>   -5.730</td> <td>   -4.119</td>\n",
       "</tr>\n",
       "<tr>\n",
       "  <th>age</th>       <td>    0.0514</td> <td>    0.005</td> <td>    9.488</td> <td> 0.000</td> <td>    0.041</td> <td>    0.062</td>\n",
       "</tr>\n",
       "<tr>\n",
       "  <th>choleste</th>  <td>    0.0099</td> <td>    0.001</td> <td>    7.489</td> <td> 0.000</td> <td>    0.007</td> <td>    0.013</td>\n",
       "</tr>\n",
       "<tr>\n",
       "  <th>duracion</th>  <td>    0.0013</td> <td>    0.001</td> <td>    1.434</td> <td> 0.152</td> <td>   -0.000</td> <td>    0.003</td>\n",
       "</tr>\n",
       "</table>"
      ],
      "text/plain": [
       "<class 'statsmodels.iolib.summary.Summary'>\n",
       "\"\"\"\n",
       "                 Generalized Linear Model Regression Results                  \n",
       "==============================================================================\n",
       "Dep. Variable:                  sigdz   No. Observations:                 1870\n",
       "Model:                            GLM   Df Residuals:                     1866\n",
       "Model Family:                Binomial   Df Model:                            3\n",
       "Link Function:                  Logit   Scale:                          1.0000\n",
       "Method:                          IRLS   Log-Likelihood:                -1201.7\n",
       "Date:                Fri, 19 Nov 2021   Deviance:                       2403.4\n",
       "Time:                        17:29:10   Pearson chi2:                 1.88e+03\n",
       "No. Iterations:                     4   Pseudo R-squ. (CS):            0.09613\n",
       "Covariance Type:            nonrobust                                         \n",
       "==============================================================================\n",
       "                 coef    std err          z      P>|z|      [0.025      0.975]\n",
       "------------------------------------------------------------------------------\n",
       "Intercept     -4.9247      0.411    -11.979      0.000      -5.730      -4.119\n",
       "age            0.0514      0.005      9.488      0.000       0.041       0.062\n",
       "choleste       0.0099      0.001      7.489      0.000       0.007       0.013\n",
       "duracion       0.0013      0.001      1.434      0.152      -0.000       0.003\n",
       "==============================================================================\n",
       "\"\"\""
      ]
     },
     "execution_count": 229,
     "metadata": {},
     "output_type": "execute_result"
    }
   ],
   "source": [
    "model = smf.glm('sigdz ~ age + choleste + duracion', train, family=sm.families.Binomial()).fit()\n",
    "model.summary()"
   ]
  },
  {
   "cell_type": "markdown",
   "id": "517d6d2e",
   "metadata": {},
   "source": [
    "En base a esto podemos evaluar la influencia de cada variable en la probabilidad calculada. Duracion tiene un P>|z| muy alto lo cual quiere decir que no lo tenemos que aceptar capaz (?) igual el coeficiente es muy bajo asi que no afecta tanto al calculo de la probabilidad (siento que igual los datos deberian estar estandarizados no?)\n",
    "\n",
    "$Pr(sigdz = 1) = \\frac{e^{intercept + c_{age}*age + c_{choleste}*choleste + c_{duracion}*duracion}}{1 + e^{intercept + c_{age}*age + c_{choleste}*choleste + c_{duracion}*duracion}}$\n",
    "\n",
    "Luego son todos positivos osea que cuanto mas grande y mas colesterol mas chances de enfermedad coronaria"
   ]
  },
  {
   "cell_type": "code",
   "execution_count": 230,
   "id": "eea77d85",
   "metadata": {},
   "outputs": [
    {
     "data": {
      "text/html": [
       "<div>\n",
       "<style scoped>\n",
       "    .dataframe tbody tr th:only-of-type {\n",
       "        vertical-align: middle;\n",
       "    }\n",
       "\n",
       "    .dataframe tbody tr th {\n",
       "        vertical-align: top;\n",
       "    }\n",
       "\n",
       "    .dataframe thead th {\n",
       "        text-align: right;\n",
       "    }\n",
       "</style>\n",
       "<table border=\"1\" class=\"dataframe\">\n",
       "  <thead>\n",
       "    <tr style=\"text-align: right;\">\n",
       "      <th></th>\n",
       "      <th>y_actual</th>\n",
       "      <th>y_predicted</th>\n",
       "    </tr>\n",
       "  </thead>\n",
       "  <tbody>\n",
       "    <tr>\n",
       "      <th>0</th>\n",
       "      <td>0</td>\n",
       "      <td>1.0</td>\n",
       "    </tr>\n",
       "    <tr>\n",
       "      <th>1</th>\n",
       "      <td>0</td>\n",
       "      <td>1.0</td>\n",
       "    </tr>\n",
       "    <tr>\n",
       "      <th>2</th>\n",
       "      <td>1</td>\n",
       "      <td>0.0</td>\n",
       "    </tr>\n",
       "    <tr>\n",
       "      <th>3</th>\n",
       "      <td>1</td>\n",
       "      <td>0.0</td>\n",
       "    </tr>\n",
       "    <tr>\n",
       "      <th>4</th>\n",
       "      <td>1</td>\n",
       "      <td>1.0</td>\n",
       "    </tr>\n",
       "  </tbody>\n",
       "</table>\n",
       "</div>"
      ],
      "text/plain": [
       "   y_actual  y_predicted\n",
       "0         0          1.0\n",
       "1         0          1.0\n",
       "2         1          0.0\n",
       "3         1          0.0\n",
       "4         1          1.0"
      ]
     },
     "execution_count": 230,
     "metadata": {},
     "output_type": "execute_result"
    }
   ],
   "source": [
    "# Taking >= 0.5 as 1 else 0\n",
    "# predictions = model.predict(test).round()\n",
    "pred = model.predict(test)\n",
    "p = 0.5\n",
    "pred.mask(pred >= p, 1, inplace=True)\n",
    "pred.mask(pred < p, 0, inplace=True)\n",
    "data = {\n",
    "    'y_actual': list(test[\"sigdz\"]),\n",
    "    'y_predicted': list(pred)\n",
    "}\n",
    "conf = pd.DataFrame(data, columns=['y_actual','y_predicted'])\n",
    "conf.head()"
   ]
  },
  {
   "cell_type": "code",
   "execution_count": 231,
   "id": "40f13978",
   "metadata": {},
   "outputs": [
    {
     "data": {
      "image/png": "[encoded data removed]",
      "text/plain": [
       "<Figure size 432x288 with 1 Axes>"
      ]
     },
     "metadata": {
      "needs_background": "light"
     },
     "output_type": "display_data"
    },
    {
     "name": "stdout",
     "output_type": "stream",
     "text": [
      "              precision    recall  f1-score   support\n",
      "\n",
      "           0       0.64      0.60      0.62       236\n",
      "           1       0.62      0.66      0.63       232\n",
      "\n",
      "    accuracy                           0.63       468\n",
      "   macro avg       0.63      0.63      0.63       468\n",
      "weighted avg       0.63      0.63      0.63       468\n",
      "\n"
     ]
    }
   ],
   "source": [
    "confusion_matrix = pd.crosstab(conf['y_actual'], conf['y_predicted'], rownames=['Actual'], colnames=['Predicted'])\n",
    "sns.heatmap(confusion_matrix, annot=True, cmap=\"Blues\", fmt=\"g\", cbar=False)\n",
    "plt.show()\n",
    "print(classification_report(conf['y_actual'], conf['y_predicted']))"
   ]
  },
  {
   "cell_type": "markdown",
   "id": "b86be010",
   "metadata": {},
   "source": [
    "### 1.c) Realizar el ejercicio 1b diferenciando mujeres y varones, o sea tomando la variable sex como factor. Interpretar los resultados. Este ejercicio puede realizarse con unalibrería"
   ]
  },
  {
   "cell_type": "code",
   "execution_count": 232,
   "id": "571a4b04",
   "metadata": {},
   "outputs": [
    {
     "data": {
      "text/html": [
       "<table class=\"simpletable\">\n",
       "<caption>Generalized Linear Model Regression Results</caption>\n",
       "<tr>\n",
       "  <th>Dep. Variable:</th>         <td>sigdz</td>      <th>  No. Observations:  </th>  <td>  1870</td> \n",
       "</tr>\n",
       "<tr>\n",
       "  <th>Model:</th>                  <td>GLM</td>       <th>  Df Residuals:      </th>  <td>  1865</td> \n",
       "</tr>\n",
       "<tr>\n",
       "  <th>Model Family:</th>        <td>Binomial</td>     <th>  Df Model:          </th>  <td>     4</td> \n",
       "</tr>\n",
       "<tr>\n",
       "  <th>Link Function:</th>         <td>Logit</td>      <th>  Scale:             </th> <td>  1.0000</td>\n",
       "</tr>\n",
       "<tr>\n",
       "  <th>Method:</th>                <td>IRLS</td>       <th>  Log-Likelihood:    </th> <td> -1023.9</td>\n",
       "</tr>\n",
       "<tr>\n",
       "  <th>Date:</th>            <td>Fri, 19 Nov 2021</td> <th>  Deviance:          </th> <td>  2047.8</td>\n",
       "</tr>\n",
       "<tr>\n",
       "  <th>Time:</th>                <td>17:29:10</td>     <th>  Pearson chi2:      </th> <td>1.87e+03</td>\n",
       "</tr>\n",
       "<tr>\n",
       "  <th>No. Iterations:</th>          <td>5</td>        <th>  Pseudo R-squ. (CS):</th>  <td>0.2526</td> \n",
       "</tr>\n",
       "<tr>\n",
       "  <th>Covariance Type:</th>     <td>nonrobust</td>    <th>                     </th>     <td> </td>   \n",
       "</tr>\n",
       "</table>\n",
       "<table class=\"simpletable\">\n",
       "<tr>\n",
       "       <td></td>          <th>coef</th>     <th>std err</th>      <th>z</th>      <th>P>|z|</th>  <th>[0.025</th>    <th>0.975]</th>  \n",
       "</tr>\n",
       "<tr>\n",
       "  <th>Intercept</th>   <td>   -6.5668</td> <td>    0.477</td> <td>  -13.759</td> <td> 0.000</td> <td>   -7.502</td> <td>   -5.631</td>\n",
       "</tr>\n",
       "<tr>\n",
       "  <th>C(sex)[T.1]</th> <td>   -2.1588</td> <td>    0.127</td> <td>  -16.939</td> <td> 0.000</td> <td>   -2.409</td> <td>   -1.909</td>\n",
       "</tr>\n",
       "<tr>\n",
       "  <th>age</th>         <td>    0.0786</td> <td>    0.006</td> <td>   12.404</td> <td> 0.000</td> <td>    0.066</td> <td>    0.091</td>\n",
       "</tr>\n",
       "<tr>\n",
       "  <th>choleste</th>    <td>    0.0145</td> <td>    0.002</td> <td>    9.476</td> <td> 0.000</td> <td>    0.012</td> <td>    0.018</td>\n",
       "</tr>\n",
       "<tr>\n",
       "  <th>duracion</th>    <td>    0.0007</td> <td>    0.001</td> <td>    0.686</td> <td> 0.493</td> <td>   -0.001</td> <td>    0.003</td>\n",
       "</tr>\n",
       "</table>"
      ],
      "text/plain": [
       "<class 'statsmodels.iolib.summary.Summary'>\n",
       "\"\"\"\n",
       "                 Generalized Linear Model Regression Results                  \n",
       "==============================================================================\n",
       "Dep. Variable:                  sigdz   No. Observations:                 1870\n",
       "Model:                            GLM   Df Residuals:                     1865\n",
       "Model Family:                Binomial   Df Model:                            4\n",
       "Link Function:                  Logit   Scale:                          1.0000\n",
       "Method:                          IRLS   Log-Likelihood:                -1023.9\n",
       "Date:                Fri, 19 Nov 2021   Deviance:                       2047.8\n",
       "Time:                        17:29:10   Pearson chi2:                 1.87e+03\n",
       "No. Iterations:                     5   Pseudo R-squ. (CS):             0.2526\n",
       "Covariance Type:            nonrobust                                         \n",
       "===============================================================================\n",
       "                  coef    std err          z      P>|z|      [0.025      0.975]\n",
       "-------------------------------------------------------------------------------\n",
       "Intercept      -6.5668      0.477    -13.759      0.000      -7.502      -5.631\n",
       "C(sex)[T.1]    -2.1588      0.127    -16.939      0.000      -2.409      -1.909\n",
       "age             0.0786      0.006     12.404      0.000       0.066       0.091\n",
       "choleste        0.0145      0.002      9.476      0.000       0.012       0.018\n",
       "duracion        0.0007      0.001      0.686      0.493      -0.001       0.003\n",
       "===============================================================================\n",
       "\"\"\""
      ]
     },
     "execution_count": 232,
     "metadata": {},
     "output_type": "execute_result"
    }
   ],
   "source": [
    "model_sex = smf.glm('sigdz ~ age + choleste + duracion + C(sex)', train, family=sm.families.Binomial()).fit()\n",
    "model_sex.summary()"
   ]
  },
  {
   "cell_type": "markdown",
   "id": "305b3908",
   "metadata": {},
   "source": [
    "Medio lo mismo que el anterior en este caso pero duracion se hace muy alto el valor de p asi que creo que es peor todavia. Igual el coeficiente es tan chico que supongo que no afecta tanto.\n",
    "\n",
    "Lo que si se puede ver bastante notorio es que si sex=1 (osea femenino) tiene un coeficiente fuerte negativo asi que quiere decir que las mujeres tienen muchos menos chances de enfermedad coronaria que los hombres."
   ]
  },
  {
   "cell_type": "code",
   "execution_count": 233,
   "id": "96af28db",
   "metadata": {},
   "outputs": [
    {
     "data": {
      "text/html": [
       "<div>\n",
       "<style scoped>\n",
       "    .dataframe tbody tr th:only-of-type {\n",
       "        vertical-align: middle;\n",
       "    }\n",
       "\n",
       "    .dataframe tbody tr th {\n",
       "        vertical-align: top;\n",
       "    }\n",
       "\n",
       "    .dataframe thead th {\n",
       "        text-align: right;\n",
       "    }\n",
       "</style>\n",
       "<table border=\"1\" class=\"dataframe\">\n",
       "  <thead>\n",
       "    <tr style=\"text-align: right;\">\n",
       "      <th></th>\n",
       "      <th>y_actual</th>\n",
       "      <th>y_predicted</th>\n",
       "    </tr>\n",
       "  </thead>\n",
       "  <tbody>\n",
       "    <tr>\n",
       "      <th>0</th>\n",
       "      <td>0</td>\n",
       "      <td>1.0</td>\n",
       "    </tr>\n",
       "    <tr>\n",
       "      <th>1</th>\n",
       "      <td>0</td>\n",
       "      <td>1.0</td>\n",
       "    </tr>\n",
       "    <tr>\n",
       "      <th>2</th>\n",
       "      <td>1</td>\n",
       "      <td>0.0</td>\n",
       "    </tr>\n",
       "    <tr>\n",
       "      <th>3</th>\n",
       "      <td>1</td>\n",
       "      <td>0.0</td>\n",
       "    </tr>\n",
       "    <tr>\n",
       "      <th>4</th>\n",
       "      <td>1</td>\n",
       "      <td>1.0</td>\n",
       "    </tr>\n",
       "  </tbody>\n",
       "</table>\n",
       "</div>"
      ],
      "text/plain": [
       "   y_actual  y_predicted\n",
       "0         0          1.0\n",
       "1         0          1.0\n",
       "2         1          0.0\n",
       "3         1          0.0\n",
       "4         1          1.0"
      ]
     },
     "execution_count": 233,
     "metadata": {},
     "output_type": "execute_result"
    }
   ],
   "source": [
    "# Taking >= 0.5 as 1 else 0\n",
    "# predictions = model.predict(test).round()\n",
    "pred_sex = model.predict(test)\n",
    "p_sex = 0.5\n",
    "pred_sex.mask(pred >= p, 1, inplace=True)\n",
    "pred_sex.mask(pred < p, 0, inplace=True)\n",
    "data_sex = {\n",
    "    'y_actual': list(test[\"sigdz\"]),\n",
    "    'y_predicted': list(pred)\n",
    "}\n",
    "conf_sex = pd.DataFrame(data, columns=['y_actual','y_predicted'])\n",
    "conf_sex.head()"
   ]
  },
  {
   "cell_type": "code",
   "execution_count": 234,
   "id": "d13558c2",
   "metadata": {},
   "outputs": [
    {
     "data": {
      "image/png": "[encoded data removed]",
      "text/plain": [
       "<Figure size 432x288 with 1 Axes>"
      ]
     },
     "metadata": {
      "needs_background": "light"
     },
     "output_type": "display_data"
    },
    {
     "name": "stdout",
     "output_type": "stream",
     "text": [
      "              precision    recall  f1-score   support\n",
      "\n",
      "           0       0.64      0.60      0.62       236\n",
      "           1       0.62      0.66      0.63       232\n",
      "\n",
      "    accuracy                           0.63       468\n",
      "   macro avg       0.63      0.63      0.63       468\n",
      "weighted avg       0.63      0.63      0.63       468\n",
      "\n"
     ]
    }
   ],
   "source": [
    "confusion_matrix_sex = pd.crosstab(conf_sex['y_actual'], conf_sex['y_predicted'], rownames=['Actual'], colnames=['Predicted'])\n",
    "sns.heatmap(confusion_matrix_sex, annot=True, cmap=\"Blues\", fmt=\"g\", cbar=False)\n",
    "plt.show()\n",
    "print(classification_report(conf_sex['y_actual'], conf_sex['y_predicted']))"
   ]
  },
  {
   "cell_type": "markdown",
   "id": "327e056f",
   "metadata": {},
   "source": [
    "###  1.d) Utilizando el modelo anterior calcular la probabilidad de que una persona tenga estrechamiento arterial si el colesterol es de 199, la edad es de 60 años y la duración es de 2 días."
   ]
  },
  {
   "cell_type": "markdown",
   "id": "83a1b01b",
   "metadata": {},
   "source": [
    "Me parece que para este ejercicio basta con calcular la probabilidad haciendo esta cuenta:\n",
    "$Pr(sigdz = 1) = \\frac{e^{intercept + c_{age}*age + c_{choleste}*choleste + c_{duracion}*duracion}}{1 + e^{intercept + c_{age}*age + c_{choleste}*choleste + c_{duracion}*duracion}}$"
   ]
  },
  {
   "cell_type": "code",
   "execution_count": 243,
   "id": "75f95514",
   "metadata": {},
   "outputs": [],
   "source": [
    "def get_proba(model, values):\n",
    "    intercept = model.params['Intercept']\n",
    "    params = {model.params.axes[0][i]: p for i,p in enumerate(model.params)}\n",
    "    in_exponent = intercept\n",
    "    for k,v in values.items():\n",
    "        in_exponent += v*params[k]\n",
    "    return np.exp(in_exponent) / (1 + np.exp(in_exponent))"
   ]
  },
  {
   "cell_type": "code",
   "execution_count": 246,
   "id": "56500a12",
   "metadata": {},
   "outputs": [
    {
     "data": {
      "text/plain": [
       "0.5333903170927652"
      ]
     },
     "execution_count": 246,
     "metadata": {},
     "output_type": "execute_result"
    }
   ],
   "source": [
    "point = {\n",
    "    \"age\": 60,\n",
    "    \"choleste\": 199,\n",
    "    \"duracion\": 2\n",
    "}\n",
    "get_proba(model, point)"
   ]
  },
  {
   "cell_type": "markdown",
   "id": "f88a41c5",
   "metadata": {},
   "source": [
    "Usando el modelo del punto 1.b la probabilidad que una persona tenga estrechamiento arterial dadas las condiciones mencionadas es de 53%"
   ]
  }
 ],
 "metadata": {
  "kernelspec": {
   "display_name": "Python 3 (ipykernel)",
   "language": "python",
   "name": "python3"
  },
  "language_info": {
   "codemirror_mode": {
    "name": "ipython",
    "version": 3
   },
   "file_extension": ".py",
   "mimetype": "text/x-python",
   "name": "python",
   "nbconvert_exporter": "python",
   "pygments_lexer": "ipython3",
   "version": "3.8.10"
  }
 },
 "nbformat": 4,
 "nbformat_minor": 5
}
