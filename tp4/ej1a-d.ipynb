{
 "cells": [
  {
   "cell_type": "code",
   "execution_count": 1,
   "id": "4f7c17b0",
   "metadata": {},
   "outputs": [],
   "source": [
    "import matplotlib.pyplot as plt\n",
    "import numpy as np\n",
    "import pandas as pd\n",
    "import seaborn as sns\n",
    "import statsmodels.api as sm\n",
    "import statsmodels.formula.api as smf\n",
    "import kmedias\n",
    "\n",
    "from sklearn.metrics import classification_report\n",
    "from sklearn.model_selection import train_test_split"
   ]
  },
  {
   "cell_type": "markdown",
   "id": "a3026801",
   "metadata": {},
   "source": [
    "## Reading Dataset"
   ]
  },
  {
   "cell_type": "code",
   "execution_count": 2,
   "id": "1d8a94d2",
   "metadata": {},
   "outputs": [
    {
     "data": {
      "text/html": [
       "<div>\n",
       "<style scoped>\n",
       "    .dataframe tbody tr th:only-of-type {\n",
       "        vertical-align: middle;\n",
       "    }\n",
       "\n",
       "    .dataframe tbody tr th {\n",
       "        vertical-align: top;\n",
       "    }\n",
       "\n",
       "    .dataframe thead th {\n",
       "        text-align: right;\n",
       "    }\n",
       "</style>\n",
       "<table border=\"1\" class=\"dataframe\">\n",
       "  <thead>\n",
       "    <tr style=\"text-align: right;\">\n",
       "      <th></th>\n",
       "      <th>sex</th>\n",
       "      <th>age</th>\n",
       "      <th>duracion</th>\n",
       "      <th>choleste</th>\n",
       "      <th>sigdz</th>\n",
       "      <th>tvdlm</th>\n",
       "    </tr>\n",
       "  </thead>\n",
       "  <tbody>\n",
       "    <tr>\n",
       "      <th>0</th>\n",
       "      <td>0</td>\n",
       "      <td>73</td>\n",
       "      <td>132</td>\n",
       "      <td>268.0</td>\n",
       "      <td>1</td>\n",
       "      <td>1.0</td>\n",
       "    </tr>\n",
       "    <tr>\n",
       "      <th>1</th>\n",
       "      <td>0</td>\n",
       "      <td>68</td>\n",
       "      <td>85</td>\n",
       "      <td>120.0</td>\n",
       "      <td>1</td>\n",
       "      <td>1.0</td>\n",
       "    </tr>\n",
       "    <tr>\n",
       "      <th>2</th>\n",
       "      <td>0</td>\n",
       "      <td>54</td>\n",
       "      <td>45</td>\n",
       "      <td>228.0</td>\n",
       "      <td>1</td>\n",
       "      <td>0.0</td>\n",
       "    </tr>\n",
       "    <tr>\n",
       "      <th>3</th>\n",
       "      <td>1</td>\n",
       "      <td>58</td>\n",
       "      <td>86</td>\n",
       "      <td>245.0</td>\n",
       "      <td>0</td>\n",
       "      <td>0.0</td>\n",
       "    </tr>\n",
       "    <tr>\n",
       "      <th>4</th>\n",
       "      <td>1</td>\n",
       "      <td>56</td>\n",
       "      <td>7</td>\n",
       "      <td>269.0</td>\n",
       "      <td>0</td>\n",
       "      <td>0.0</td>\n",
       "    </tr>\n",
       "  </tbody>\n",
       "</table>\n",
       "</div>"
      ],
      "text/plain": [
       "   sex  age  duracion  choleste  sigdz  tvdlm\n",
       "0    0   73       132     268.0      1    1.0\n",
       "1    0   68        85     120.0      1    1.0\n",
       "2    0   54        45     228.0      1    0.0\n",
       "3    1   58        86     245.0      0    0.0\n",
       "4    1   56         7     269.0      0    0.0"
      ]
     },
     "execution_count": 2,
     "metadata": {},
     "output_type": "execute_result"
    }
   ],
   "source": [
    "df = pd.read_csv(\"./datasets/clean_acath.csv\")\n",
    "df.rename(columns={\"cad.dur\": \"duracion\"}, inplace=True)\n",
    "df.head()"
   ]
  },
  {
   "cell_type": "code",
   "execution_count": 3,
   "id": "77e36a87",
   "metadata": {},
   "outputs": [
    {
     "name": "stdout",
     "output_type": "stream",
     "text": [
      " amount with disease: 2332\n",
      " amount without disease: 1169\n"
     ]
    }
   ],
   "source": [
    "with_disease    = df[df['sigdz'] == 1]\n",
    "without_disease = df[df['sigdz'] == 0]\n",
    "print(f\" amount with disease: {len(with_disease)}\")\n",
    "print(f\" amount without disease: {len(without_disease)}\")"
   ]
  },
  {
   "cell_type": "code",
   "execution_count": 4,
   "id": "159845d3",
   "metadata": {},
   "outputs": [],
   "source": [
    "# Balance amount of positive and negative\n",
    "with_disease_sample = with_disease.sample(n=len(without_disease))\n",
    "df = pd.concat([without_disease, with_disease_sample])"
   ]
  },
  {
   "cell_type": "code",
   "execution_count": 5,
   "id": "e2a5c71d",
   "metadata": {},
   "outputs": [
    {
     "data": {
      "text/plain": [
       "sex         0\n",
       "age         0\n",
       "duracion    0\n",
       "choleste    0\n",
       "sigdz       0\n",
       "tvdlm       0\n",
       "dtype: int64"
      ]
     },
     "execution_count": 5,
     "metadata": {},
     "output_type": "execute_result"
    }
   ],
   "source": [
    "# Double check no Nans\n",
    "df.isna().sum()"
   ]
  },
  {
   "cell_type": "code",
   "execution_count": 6,
   "id": "7efacdf8",
   "metadata": {},
   "outputs": [
    {
     "data": {
      "text/html": [
       "<div>\n",
       "<style scoped>\n",
       "    .dataframe tbody tr th:only-of-type {\n",
       "        vertical-align: middle;\n",
       "    }\n",
       "\n",
       "    .dataframe tbody tr th {\n",
       "        vertical-align: top;\n",
       "    }\n",
       "\n",
       "    .dataframe thead th {\n",
       "        text-align: right;\n",
       "    }\n",
       "</style>\n",
       "<table border=\"1\" class=\"dataframe\">\n",
       "  <thead>\n",
       "    <tr style=\"text-align: right;\">\n",
       "      <th></th>\n",
       "      <th>sex</th>\n",
       "      <th>age</th>\n",
       "      <th>duracion</th>\n",
       "      <th>choleste</th>\n",
       "      <th>sigdz</th>\n",
       "      <th>tvdlm</th>\n",
       "    </tr>\n",
       "  </thead>\n",
       "  <tbody>\n",
       "  </tbody>\n",
       "</table>\n",
       "</div>"
      ],
      "text/plain": [
       "Empty DataFrame\n",
       "Columns: [sex, age, duracion, choleste, sigdz, tvdlm]\n",
       "Index: []"
      ]
     },
     "execution_count": 6,
     "metadata": {},
     "output_type": "execute_result"
    }
   ],
   "source": [
    "# Siempre tvdlm es como sigdz pero peor, la meto en el modelo? (creo que no)\n",
    "df[(df[\"sigdz\"] == 0) & (df[\"tvdlm\"] == 1)]"
   ]
  },
  {
   "cell_type": "markdown",
   "id": "df73c15c",
   "metadata": {},
   "source": [
    "### 1.a) Dividir aleatoriamente el conjunto de datos en dos conjuntos, uno de entrenamiento y uno de prueba"
   ]
  },
  {
   "cell_type": "code",
   "execution_count": 7,
   "id": "e9ce717a",
   "metadata": {},
   "outputs": [
    {
     "name": "stdout",
     "output_type": "stream",
     "text": [
      "training amount: 1870\n",
      "testing amount: 468\n"
     ]
    },
    {
     "data": {
      "text/html": [
       "<div>\n",
       "<style scoped>\n",
       "    .dataframe tbody tr th:only-of-type {\n",
       "        vertical-align: middle;\n",
       "    }\n",
       "\n",
       "    .dataframe tbody tr th {\n",
       "        vertical-align: top;\n",
       "    }\n",
       "\n",
       "    .dataframe thead th {\n",
       "        text-align: right;\n",
       "    }\n",
       "</style>\n",
       "<table border=\"1\" class=\"dataframe\">\n",
       "  <thead>\n",
       "    <tr style=\"text-align: right;\">\n",
       "      <th></th>\n",
       "      <th>sex</th>\n",
       "      <th>age</th>\n",
       "      <th>duracion</th>\n",
       "      <th>choleste</th>\n",
       "      <th>sigdz</th>\n",
       "      <th>tvdlm</th>\n",
       "    </tr>\n",
       "  </thead>\n",
       "  <tbody>\n",
       "    <tr>\n",
       "      <th>3297</th>\n",
       "      <td>1</td>\n",
       "      <td>63</td>\n",
       "      <td>1</td>\n",
       "      <td>244.0</td>\n",
       "      <td>1</td>\n",
       "      <td>1.0</td>\n",
       "    </tr>\n",
       "    <tr>\n",
       "      <th>327</th>\n",
       "      <td>0</td>\n",
       "      <td>57</td>\n",
       "      <td>123</td>\n",
       "      <td>242.0</td>\n",
       "      <td>0</td>\n",
       "      <td>0.0</td>\n",
       "    </tr>\n",
       "    <tr>\n",
       "      <th>523</th>\n",
       "      <td>0</td>\n",
       "      <td>45</td>\n",
       "      <td>5</td>\n",
       "      <td>236.0</td>\n",
       "      <td>1</td>\n",
       "      <td>1.0</td>\n",
       "    </tr>\n",
       "    <tr>\n",
       "      <th>2427</th>\n",
       "      <td>0</td>\n",
       "      <td>69</td>\n",
       "      <td>179</td>\n",
       "      <td>220.0</td>\n",
       "      <td>1</td>\n",
       "      <td>1.0</td>\n",
       "    </tr>\n",
       "    <tr>\n",
       "      <th>3474</th>\n",
       "      <td>0</td>\n",
       "      <td>54</td>\n",
       "      <td>18</td>\n",
       "      <td>185.0</td>\n",
       "      <td>0</td>\n",
       "      <td>0.0</td>\n",
       "    </tr>\n",
       "  </tbody>\n",
       "</table>\n",
       "</div>"
      ],
      "text/plain": [
       "      sex  age  duracion  choleste  sigdz  tvdlm\n",
       "3297    1   63         1     244.0      1    1.0\n",
       "327     0   57       123     242.0      0    0.0\n",
       "523     0   45         5     236.0      1    1.0\n",
       "2427    0   69       179     220.0      1    1.0\n",
       "3474    0   54        18     185.0      0    0.0"
      ]
     },
     "execution_count": 7,
     "metadata": {},
     "output_type": "execute_result"
    }
   ],
   "source": [
    "train, test = train_test_split(df, test_size=0.2, random_state=69)\n",
    "print(f\"training amount: {len(train)}\\ntesting amount: {len(test)}\")\n",
    "train.head()"
   ]
  },
  {
   "cell_type": "markdown",
   "id": "f05e5e6c",
   "metadata": {},
   "source": [
    "### 1.b) Clasificar la variable categórica sigdz que indica si el paciente posee o no una enfermedad coronaria, utilizando el modelo de regresión logística y las variables numéricas. Calcular la matriz de confusión y evaluar la influencia de cada una de las variables en la probabilidad calculada"
   ]
  },
  {
   "cell_type": "code",
   "execution_count": 8,
   "id": "a4462ef9",
   "metadata": {},
   "outputs": [
    {
     "data": {
      "text/html": [
       "<table class=\"simpletable\">\n",
       "<caption>Generalized Linear Model Regression Results</caption>\n",
       "<tr>\n",
       "  <th>Dep. Variable:</th>         <td>sigdz</td>      <th>  No. Observations:  </th>  <td>  1870</td> \n",
       "</tr>\n",
       "<tr>\n",
       "  <th>Model:</th>                  <td>GLM</td>       <th>  Df Residuals:      </th>  <td>  1866</td> \n",
       "</tr>\n",
       "<tr>\n",
       "  <th>Model Family:</th>        <td>Binomial</td>     <th>  Df Model:          </th>  <td>     3</td> \n",
       "</tr>\n",
       "<tr>\n",
       "  <th>Link Function:</th>         <td>Logit</td>      <th>  Scale:             </th> <td>  1.0000</td>\n",
       "</tr>\n",
       "<tr>\n",
       "  <th>Method:</th>                <td>IRLS</td>       <th>  Log-Likelihood:    </th> <td> -1196.0</td>\n",
       "</tr>\n",
       "<tr>\n",
       "  <th>Date:</th>            <td>Tue, 23 Nov 2021</td> <th>  Deviance:          </th> <td>  2392.0</td>\n",
       "</tr>\n",
       "<tr>\n",
       "  <th>Time:</th>                <td>05:13:30</td>     <th>  Pearson chi2:      </th> <td>1.87e+03</td>\n",
       "</tr>\n",
       "<tr>\n",
       "  <th>No. Iterations:</th>          <td>4</td>        <th>  Pseudo R-squ. (CS):</th>  <td>0.1016</td> \n",
       "</tr>\n",
       "<tr>\n",
       "  <th>Covariance Type:</th>     <td>nonrobust</td>    <th>                     </th>     <td> </td>   \n",
       "</tr>\n",
       "</table>\n",
       "<table class=\"simpletable\">\n",
       "<tr>\n",
       "      <td></td>         <th>coef</th>     <th>std err</th>      <th>z</th>      <th>P>|z|</th>  <th>[0.025</th>    <th>0.975]</th>  \n",
       "</tr>\n",
       "<tr>\n",
       "  <th>Intercept</th> <td>   -4.9396</td> <td>    0.403</td> <td>  -12.243</td> <td> 0.000</td> <td>   -5.730</td> <td>   -4.149</td>\n",
       "</tr>\n",
       "<tr>\n",
       "  <th>age</th>       <td>    0.0606</td> <td>    0.005</td> <td>   11.198</td> <td> 0.000</td> <td>    0.050</td> <td>    0.071</td>\n",
       "</tr>\n",
       "<tr>\n",
       "  <th>choleste</th>  <td>    0.0081</td> <td>    0.001</td> <td>    6.340</td> <td> 0.000</td> <td>    0.006</td> <td>    0.011</td>\n",
       "</tr>\n",
       "<tr>\n",
       "  <th>duracion</th>  <td>-5.176e-05</td> <td>    0.001</td> <td>   -0.056</td> <td> 0.956</td> <td>   -0.002</td> <td>    0.002</td>\n",
       "</tr>\n",
       "</table>"
      ],
      "text/plain": [
       "<class 'statsmodels.iolib.summary.Summary'>\n",
       "\"\"\"\n",
       "                 Generalized Linear Model Regression Results                  \n",
       "==============================================================================\n",
       "Dep. Variable:                  sigdz   No. Observations:                 1870\n",
       "Model:                            GLM   Df Residuals:                     1866\n",
       "Model Family:                Binomial   Df Model:                            3\n",
       "Link Function:                  Logit   Scale:                          1.0000\n",
       "Method:                          IRLS   Log-Likelihood:                -1196.0\n",
       "Date:                Tue, 23 Nov 2021   Deviance:                       2392.0\n",
       "Time:                        05:13:30   Pearson chi2:                 1.87e+03\n",
       "No. Iterations:                     4   Pseudo R-squ. (CS):             0.1016\n",
       "Covariance Type:            nonrobust                                         \n",
       "==============================================================================\n",
       "                 coef    std err          z      P>|z|      [0.025      0.975]\n",
       "------------------------------------------------------------------------------\n",
       "Intercept     -4.9396      0.403    -12.243      0.000      -5.730      -4.149\n",
       "age            0.0606      0.005     11.198      0.000       0.050       0.071\n",
       "choleste       0.0081      0.001      6.340      0.000       0.006       0.011\n",
       "duracion   -5.176e-05      0.001     -0.056      0.956      -0.002       0.002\n",
       "==============================================================================\n",
       "\"\"\""
      ]
     },
     "execution_count": 8,
     "metadata": {},
     "output_type": "execute_result"
    }
   ],
   "source": [
    "model = smf.glm('sigdz ~ age + choleste + duracion', train, family=sm.families.Binomial()).fit()\n",
    "model.summary()"
   ]
  },
  {
   "cell_type": "markdown",
   "id": "517d6d2e",
   "metadata": {},
   "source": [
    "En base a esto podemos evaluar la influencia de cada variable en la probabilidad calculada. Duracion tiene un P>|z| muy alto lo cual quiere decir que no lo tenemos que aceptar capaz (?) igual el coeficiente es muy bajo asi que no afecta tanto al calculo de la probabilidad (siento que igual los datos deberian estar estandarizados no?)\n",
    "\n",
    "$Pr(sigdz = 1) = \\frac{e^{intercept + c_{age}*age + c_{choleste}*choleste + c_{duracion}*duracion}}{1 + e^{intercept + c_{age}*age + c_{choleste}*choleste + c_{duracion}*duracion}}$\n",
    "\n",
    "Luego son todos positivos osea que cuanto mas grande y mas colesterol mas chances de enfermedad coronaria"
   ]
  },
  {
   "cell_type": "code",
   "execution_count": 9,
   "id": "eea77d85",
   "metadata": {},
   "outputs": [
    {
     "data": {
      "text/html": [
       "<div>\n",
       "<style scoped>\n",
       "    .dataframe tbody tr th:only-of-type {\n",
       "        vertical-align: middle;\n",
       "    }\n",
       "\n",
       "    .dataframe tbody tr th {\n",
       "        vertical-align: top;\n",
       "    }\n",
       "\n",
       "    .dataframe thead th {\n",
       "        text-align: right;\n",
       "    }\n",
       "</style>\n",
       "<table border=\"1\" class=\"dataframe\">\n",
       "  <thead>\n",
       "    <tr style=\"text-align: right;\">\n",
       "      <th></th>\n",
       "      <th>y_actual</th>\n",
       "      <th>y_predicted</th>\n",
       "    </tr>\n",
       "  </thead>\n",
       "  <tbody>\n",
       "    <tr>\n",
       "      <th>0</th>\n",
       "      <td>0</td>\n",
       "      <td>1.0</td>\n",
       "    </tr>\n",
       "    <tr>\n",
       "      <th>1</th>\n",
       "      <td>0</td>\n",
       "      <td>1.0</td>\n",
       "    </tr>\n",
       "    <tr>\n",
       "      <th>2</th>\n",
       "      <td>1</td>\n",
       "      <td>0.0</td>\n",
       "    </tr>\n",
       "    <tr>\n",
       "      <th>3</th>\n",
       "      <td>1</td>\n",
       "      <td>0.0</td>\n",
       "    </tr>\n",
       "    <tr>\n",
       "      <th>4</th>\n",
       "      <td>1</td>\n",
       "      <td>0.0</td>\n",
       "    </tr>\n",
       "  </tbody>\n",
       "</table>\n",
       "</div>"
      ],
      "text/plain": [
       "   y_actual  y_predicted\n",
       "0         0          1.0\n",
       "1         0          1.0\n",
       "2         1          0.0\n",
       "3         1          0.0\n",
       "4         1          0.0"
      ]
     },
     "execution_count": 9,
     "metadata": {},
     "output_type": "execute_result"
    }
   ],
   "source": [
    "# Taking >= 0.5 as 1 else 0\n",
    "# predictions = model.predict(test).round()\n",
    "pred = model.predict(test)\n",
    "p = 0.5\n",
    "pred.mask(pred >= p, 1, inplace=True)\n",
    "pred.mask(pred < p, 0, inplace=True)\n",
    "data = {\n",
    "    'y_actual': list(test[\"sigdz\"]),\n",
    "    'y_predicted': list(pred)\n",
    "}\n",
    "conf = pd.DataFrame(data, columns=['y_actual','y_predicted'])\n",
    "conf.head()"
   ]
  },
  {
   "cell_type": "code",
   "execution_count": 10,
   "id": "40f13978",
   "metadata": {},
   "outputs": [
    {
     "data": {
      "image/png": "[encoded data removed]",
      "text/plain": [
       "<Figure size 432x288 with 1 Axes>"
      ]
     },
     "metadata": {
      "needs_background": "light"
     },
     "output_type": "display_data"
    },
    {
     "name": "stdout",
     "output_type": "stream",
     "text": [
      "              precision    recall  f1-score   support\n",
      "\n",
      "           0       0.59      0.58      0.59       236\n",
      "           1       0.58      0.59      0.59       232\n",
      "\n",
      "    accuracy                           0.59       468\n",
      "   macro avg       0.59      0.59      0.59       468\n",
      "weighted avg       0.59      0.59      0.59       468\n",
      "\n"
     ]
    }
   ],
   "source": [
    "confusion_matrix = pd.crosstab(conf['y_actual'], conf['y_predicted'], rownames=['Actual'], colnames=['Predicted'])\n",
    "sns.heatmap(confusion_matrix, annot=True, cmap=\"Blues\", fmt=\"g\", cbar=False)\n",
    "plt.show()\n",
    "print(classification_report(conf['y_actual'], conf['y_predicted']))"
   ]
  },
  {
   "cell_type": "markdown",
   "id": "b86be010",
   "metadata": {},
   "source": [
    "### 1.c) Realizar el ejercicio 1b diferenciando mujeres y varones, o sea tomando la variable sex como factor. Interpretar los resultados. Este ejercicio puede realizarse con unalibrería"
   ]
  },
  {
   "cell_type": "code",
   "execution_count": 11,
   "id": "571a4b04",
   "metadata": {},
   "outputs": [
    {
     "data": {
      "text/html": [
       "<table class=\"simpletable\">\n",
       "<caption>Generalized Linear Model Regression Results</caption>\n",
       "<tr>\n",
       "  <th>Dep. Variable:</th>         <td>sigdz</td>      <th>  No. Observations:  </th>  <td>  1870</td> \n",
       "</tr>\n",
       "<tr>\n",
       "  <th>Model:</th>                  <td>GLM</td>       <th>  Df Residuals:      </th>  <td>  1865</td> \n",
       "</tr>\n",
       "<tr>\n",
       "  <th>Model Family:</th>        <td>Binomial</td>     <th>  Df Model:          </th>  <td>     4</td> \n",
       "</tr>\n",
       "<tr>\n",
       "  <th>Link Function:</th>         <td>Logit</td>      <th>  Scale:             </th> <td>  1.0000</td>\n",
       "</tr>\n",
       "<tr>\n",
       "  <th>Method:</th>                <td>IRLS</td>       <th>  Log-Likelihood:    </th> <td> -1019.7</td>\n",
       "</tr>\n",
       "<tr>\n",
       "  <th>Date:</th>            <td>Tue, 23 Nov 2021</td> <th>  Deviance:          </th> <td>  2039.4</td>\n",
       "</tr>\n",
       "<tr>\n",
       "  <th>Time:</th>                <td>05:13:30</td>     <th>  Pearson chi2:      </th> <td>1.91e+03</td>\n",
       "</tr>\n",
       "<tr>\n",
       "  <th>No. Iterations:</th>          <td>5</td>        <th>  Pseudo R-squ. (CS):</th>  <td>0.2560</td> \n",
       "</tr>\n",
       "<tr>\n",
       "  <th>Covariance Type:</th>     <td>nonrobust</td>    <th>                     </th>     <td> </td>   \n",
       "</tr>\n",
       "</table>\n",
       "<table class=\"simpletable\">\n",
       "<tr>\n",
       "       <td></td>          <th>coef</th>     <th>std err</th>      <th>z</th>      <th>P>|z|</th>  <th>[0.025</th>    <th>0.975]</th>  \n",
       "</tr>\n",
       "<tr>\n",
       "  <th>Intercept</th>   <td>   -6.4365</td> <td>    0.466</td> <td>  -13.820</td> <td> 0.000</td> <td>   -7.349</td> <td>   -5.524</td>\n",
       "</tr>\n",
       "<tr>\n",
       "  <th>C(sex)[T.1]</th> <td>   -2.1447</td> <td>    0.127</td> <td>  -16.898</td> <td> 0.000</td> <td>   -2.393</td> <td>   -1.896</td>\n",
       "</tr>\n",
       "<tr>\n",
       "  <th>age</th>         <td>    0.0850</td> <td>    0.006</td> <td>   13.449</td> <td> 0.000</td> <td>    0.073</td> <td>    0.097</td>\n",
       "</tr>\n",
       "<tr>\n",
       "  <th>choleste</th>    <td>    0.0126</td> <td>    0.001</td> <td>    8.603</td> <td> 0.000</td> <td>    0.010</td> <td>    0.015</td>\n",
       "</tr>\n",
       "<tr>\n",
       "  <th>duracion</th>    <td>   -0.0003</td> <td>    0.001</td> <td>   -0.327</td> <td> 0.743</td> <td>   -0.002</td> <td>    0.002</td>\n",
       "</tr>\n",
       "</table>"
      ],
      "text/plain": [
       "<class 'statsmodels.iolib.summary.Summary'>\n",
       "\"\"\"\n",
       "                 Generalized Linear Model Regression Results                  \n",
       "==============================================================================\n",
       "Dep. Variable:                  sigdz   No. Observations:                 1870\n",
       "Model:                            GLM   Df Residuals:                     1865\n",
       "Model Family:                Binomial   Df Model:                            4\n",
       "Link Function:                  Logit   Scale:                          1.0000\n",
       "Method:                          IRLS   Log-Likelihood:                -1019.7\n",
       "Date:                Tue, 23 Nov 2021   Deviance:                       2039.4\n",
       "Time:                        05:13:30   Pearson chi2:                 1.91e+03\n",
       "No. Iterations:                     5   Pseudo R-squ. (CS):             0.2560\n",
       "Covariance Type:            nonrobust                                         \n",
       "===============================================================================\n",
       "                  coef    std err          z      P>|z|      [0.025      0.975]\n",
       "-------------------------------------------------------------------------------\n",
       "Intercept      -6.4365      0.466    -13.820      0.000      -7.349      -5.524\n",
       "C(sex)[T.1]    -2.1447      0.127    -16.898      0.000      -2.393      -1.896\n",
       "age             0.0850      0.006     13.449      0.000       0.073       0.097\n",
       "choleste        0.0126      0.001      8.603      0.000       0.010       0.015\n",
       "duracion       -0.0003      0.001     -0.327      0.743      -0.002       0.002\n",
       "===============================================================================\n",
       "\"\"\""
      ]
     },
     "execution_count": 11,
     "metadata": {},
     "output_type": "execute_result"
    }
   ],
   "source": [
    "model_sex = smf.glm('sigdz ~ age + choleste + duracion + C(sex)', train, family=sm.families.Binomial()).fit()\n",
    "model_sex.summary()"
   ]
  },
  {
   "cell_type": "markdown",
   "id": "305b3908",
   "metadata": {},
   "source": [
    "Medio lo mismo que el anterior en este caso pero duracion se hace muy alto el valor de p asi que creo que es peor todavia. Igual el coeficiente es tan chico que supongo que no afecta tanto.\n",
    "\n",
    "Lo que si se puede ver bastante notorio es que si sex=1 (osea femenino) tiene un coeficiente fuerte negativo asi que quiere decir que las mujeres tienen muchos menos chances de enfermedad coronaria que los hombres."
   ]
  },
  {
   "cell_type": "code",
   "execution_count": 12,
   "id": "96af28db",
   "metadata": {},
   "outputs": [
    {
     "data": {
      "text/html": [
       "<div>\n",
       "<style scoped>\n",
       "    .dataframe tbody tr th:only-of-type {\n",
       "        vertical-align: middle;\n",
       "    }\n",
       "\n",
       "    .dataframe tbody tr th {\n",
       "        vertical-align: top;\n",
       "    }\n",
       "\n",
       "    .dataframe thead th {\n",
       "        text-align: right;\n",
       "    }\n",
       "</style>\n",
       "<table border=\"1\" class=\"dataframe\">\n",
       "  <thead>\n",
       "    <tr style=\"text-align: right;\">\n",
       "      <th></th>\n",
       "      <th>y_actual</th>\n",
       "      <th>y_predicted</th>\n",
       "    </tr>\n",
       "  </thead>\n",
       "  <tbody>\n",
       "    <tr>\n",
       "      <th>0</th>\n",
       "      <td>0</td>\n",
       "      <td>1.0</td>\n",
       "    </tr>\n",
       "    <tr>\n",
       "      <th>1</th>\n",
       "      <td>0</td>\n",
       "      <td>1.0</td>\n",
       "    </tr>\n",
       "    <tr>\n",
       "      <th>2</th>\n",
       "      <td>1</td>\n",
       "      <td>0.0</td>\n",
       "    </tr>\n",
       "    <tr>\n",
       "      <th>3</th>\n",
       "      <td>1</td>\n",
       "      <td>0.0</td>\n",
       "    </tr>\n",
       "    <tr>\n",
       "      <th>4</th>\n",
       "      <td>1</td>\n",
       "      <td>0.0</td>\n",
       "    </tr>\n",
       "  </tbody>\n",
       "</table>\n",
       "</div>"
      ],
      "text/plain": [
       "   y_actual  y_predicted\n",
       "0         0          1.0\n",
       "1         0          1.0\n",
       "2         1          0.0\n",
       "3         1          0.0\n",
       "4         1          0.0"
      ]
     },
     "execution_count": 12,
     "metadata": {},
     "output_type": "execute_result"
    }
   ],
   "source": [
    "# Taking >= 0.5 as 1 else 0\n",
    "# predictions = model.predict(test).round()\n",
    "pred_sex = model.predict(test)\n",
    "p_sex = 0.5\n",
    "pred_sex.mask(pred >= p, 1, inplace=True)\n",
    "pred_sex.mask(pred < p, 0, inplace=True)\n",
    "data_sex = {\n",
    "    'y_actual': list(test[\"sigdz\"]),\n",
    "    'y_predicted': list(pred)\n",
    "}\n",
    "conf_sex = pd.DataFrame(data, columns=['y_actual','y_predicted'])\n",
    "conf_sex.head()"
   ]
  },
  {
   "cell_type": "code",
   "execution_count": 13,
   "id": "d13558c2",
   "metadata": {},
   "outputs": [
    {
     "data": {
      "image/png": "[encoded data removed]",
      "text/plain": [
       "<Figure size 432x288 with 1 Axes>"
      ]
     },
     "metadata": {
      "needs_background": "light"
     },
     "output_type": "display_data"
    },
    {
     "name": "stdout",
     "output_type": "stream",
     "text": [
      "              precision    recall  f1-score   support\n",
      "\n",
      "           0       0.59      0.58      0.59       236\n",
      "           1       0.58      0.59      0.59       232\n",
      "\n",
      "    accuracy                           0.59       468\n",
      "   macro avg       0.59      0.59      0.59       468\n",
      "weighted avg       0.59      0.59      0.59       468\n",
      "\n"
     ]
    }
   ],
   "source": [
    "confusion_matrix_sex = pd.crosstab(conf_sex['y_actual'], conf_sex['y_predicted'], rownames=['Actual'], colnames=['Predicted'])\n",
    "sns.heatmap(confusion_matrix_sex, annot=True, cmap=\"Blues\", fmt=\"g\", cbar=False)\n",
    "plt.show()\n",
    "print(classification_report(conf_sex['y_actual'], conf_sex['y_predicted']))"
   ]
  },
  {
   "cell_type": "markdown",
   "id": "327e056f",
   "metadata": {},
   "source": [
    "###  1.d) Utilizando el modelo anterior calcular la probabilidad de que una persona tenga estrechamiento arterial si el colesterol es de 199, la edad es de 60 años y la duración es de 2 días."
   ]
  },
  {
   "cell_type": "markdown",
   "id": "83a1b01b",
   "metadata": {},
   "source": [
    "Me parece que para este ejercicio basta con calcular la probabilidad haciendo esta cuenta:\n",
    "$Pr(sigdz = 1) = \\frac{e^{intercept + c_{age}*age + c_{choleste}*choleste + c_{duracion}*duracion}}{1 + e^{intercept + c_{age}*age + c_{choleste}*choleste + c_{duracion}*duracion}}$"
   ]
  },
  {
   "cell_type": "code",
   "execution_count": 14,
   "id": "75f95514",
   "metadata": {},
   "outputs": [],
   "source": [
    "def get_proba(model, values):\n",
    "    intercept = model.params['Intercept']\n",
    "    params = {model.params.axes[0][i]: p for i,p in enumerate(model.params)}\n",
    "    in_exponent = intercept\n",
    "    for k,v in values.items():\n",
    "        in_exponent += v*params[k]\n",
    "    return np.exp(in_exponent) / (1 + np.exp(in_exponent))"
   ]
  },
  {
   "cell_type": "code",
   "execution_count": 15,
   "id": "56500a12",
   "metadata": {},
   "outputs": [
    {
     "data": {
      "text/plain": [
       "0.5758805105377811"
      ]
     },
     "execution_count": 15,
     "metadata": {},
     "output_type": "execute_result"
    }
   ],
   "source": [
    "point = {\n",
    "    \"age\": 60,\n",
    "    \"choleste\": 199,\n",
    "    \"duracion\": 2\n",
    "}\n",
    "get_proba(model, point)"
   ]
  },
  {
   "cell_type": "markdown",
   "id": "f88a41c5",
   "metadata": {},
   "source": [
    "Usando el modelo del punto 1.b la probabilidad que una persona tenga estrechamiento arterial dadas las condiciones mencionadas es de 53%"
   ]
  },
  {
   "cell_type": "code",
   "execution_count": 18,
   "id": "2290cd17",
   "metadata": {},
   "outputs": [
    {
     "name": "stdout",
     "output_type": "stream",
     "text": [
      "training amount: 1870\n",
      "testing amount: 468\n"
     ]
    },
    {
     "ename": "KeyError",
     "evalue": "\"None of [Int64Index([  50,   66,  106,  153,  231,  233,  266,  281,  360,  460,  475,\\n             535,  582,  587,  650,  657,  683,  776,  780,  847,  899,  999,\\n            1010, 1061, 1117, 1121, 1122, 1126, 1179, 1185, 1206, 1236, 1264,\\n            1267, 1278, 1281, 1291, 1357, 1392, 1428, 1509, 1664, 1754, 1758],\\n           dtype='int64')] are in the [columns]\"",
     "output_type": "error",
     "traceback": [
      "\u001b[1;31m---------------------------------------------------------------------------\u001b[0m",
      "\u001b[1;31mKeyError\u001b[0m                                  Traceback (most recent call last)",
      "\u001b[1;32m~\\AppData\\Local\\Temp/ipykernel_26200/3878238699.py\u001b[0m in \u001b[0;36m<module>\u001b[1;34m\u001b[0m\n\u001b[0;32m     18\u001b[0m             \u001b[1;31m# train section\u001b[0m\u001b[1;33m\u001b[0m\u001b[1;33m\u001b[0m\u001b[0m\n\u001b[0;32m     19\u001b[0m             \u001b[0mk_means\u001b[0m \u001b[1;33m=\u001b[0m \u001b[0mKmeans\u001b[0m\u001b[1;33m(\u001b[0m\u001b[0mclusters\u001b[0m\u001b[1;33m,\u001b[0m \u001b[0mtrain\u001b[0m\u001b[1;33m)\u001b[0m\u001b[1;33m\u001b[0m\u001b[1;33m\u001b[0m\u001b[0m\n\u001b[1;32m---> 20\u001b[1;33m             \u001b[0mk_means\u001b[0m\u001b[1;33m.\u001b[0m\u001b[0mrun\u001b[0m\u001b[1;33m(\u001b[0m\u001b[1;36m4000\u001b[0m\u001b[1;33m)\u001b[0m\u001b[1;33m\u001b[0m\u001b[1;33m\u001b[0m\u001b[0m\n\u001b[0m\u001b[0;32m     21\u001b[0m             \u001b[0mk_means\u001b[0m\u001b[1;33m.\u001b[0m\u001b[0madd_cluster_classification\u001b[0m\u001b[1;33m(\u001b[0m\u001b[0my_train\u001b[0m\u001b[1;33m)\u001b[0m\u001b[1;33m\u001b[0m\u001b[1;33m\u001b[0m\u001b[0m\n\u001b[0;32m     22\u001b[0m \u001b[1;33m\u001b[0m\u001b[0m\n",
      "\u001b[1;32mc:\\Users\\gabri\\MachineLearningStories\\tp4\\kmedias.py\u001b[0m in \u001b[0;36mrun\u001b[1;34m(self, epochs)\u001b[0m\n\u001b[0;32m     28\u001b[0m \u001b[1;33m\u001b[0m\u001b[0m\n\u001b[0;32m     29\u001b[0m             \u001b[1;31m# arreglo de centroides para cada agrupacion\u001b[0m\u001b[1;33m\u001b[0m\u001b[1;33m\u001b[0m\u001b[0m\n\u001b[1;32m---> 30\u001b[1;33m             \u001b[0mcentroids\u001b[0m \u001b[1;33m=\u001b[0m \u001b[0mself\u001b[0m\u001b[1;33m.\u001b[0m\u001b[0mget_centroids\u001b[0m\u001b[1;33m(\u001b[0m\u001b[0mclusters\u001b[0m\u001b[1;33m)\u001b[0m\u001b[1;33m\u001b[0m\u001b[1;33m\u001b[0m\u001b[0m\n\u001b[0m\u001b[0;32m     31\u001b[0m \u001b[1;33m\u001b[0m\u001b[0m\n\u001b[0;32m     32\u001b[0m             \u001b[0mself\u001b[0m\u001b[1;33m.\u001b[0m\u001b[0mcompute_variances\u001b[0m\u001b[1;33m(\u001b[0m\u001b[0mclusters\u001b[0m\u001b[1;33m)\u001b[0m\u001b[1;33m\u001b[0m\u001b[1;33m\u001b[0m\u001b[0m\n",
      "\u001b[1;32mc:\\Users\\gabri\\MachineLearningStories\\tp4\\kmedias.py\u001b[0m in \u001b[0;36mget_centroids\u001b[1;34m(self, clusters)\u001b[0m\n\u001b[0;32m     19\u001b[0m         \u001b[1;32mfor\u001b[0m \u001b[0mc\u001b[0m \u001b[1;32min\u001b[0m \u001b[0mclusters\u001b[0m\u001b[1;33m:\u001b[0m\u001b[1;33m\u001b[0m\u001b[1;33m\u001b[0m\u001b[0m\n\u001b[0;32m     20\u001b[0m             \u001b[0mcluster_elems_indexes\u001b[0m \u001b[1;33m=\u001b[0m \u001b[0mnp\u001b[0m\u001b[1;33m.\u001b[0m\u001b[0mwhere\u001b[0m\u001b[1;33m(\u001b[0m\u001b[0mself\u001b[0m\u001b[1;33m.\u001b[0m\u001b[0mcluster_per_sample\u001b[0m \u001b[1;33m==\u001b[0m \u001b[0mc\u001b[0m\u001b[1;33m)\u001b[0m\u001b[1;33m[\u001b[0m\u001b[1;36m0\u001b[0m\u001b[1;33m]\u001b[0m\u001b[1;33m\u001b[0m\u001b[1;33m\u001b[0m\u001b[0m\n\u001b[1;32m---> 21\u001b[1;33m             \u001b[0mcentroid\u001b[0m \u001b[1;33m=\u001b[0m \u001b[0mself\u001b[0m\u001b[1;33m.\u001b[0m\u001b[0msamples\u001b[0m\u001b[1;33m[\u001b[0m\u001b[0mcluster_elems_indexes\u001b[0m\u001b[1;33m]\u001b[0m\u001b[1;33m.\u001b[0m\u001b[0mmean\u001b[0m\u001b[1;33m(\u001b[0m\u001b[0maxis\u001b[0m\u001b[1;33m=\u001b[0m\u001b[1;36m0\u001b[0m\u001b[1;33m)\u001b[0m\u001b[1;33m\u001b[0m\u001b[1;33m\u001b[0m\u001b[0m\n\u001b[0m\u001b[0;32m     22\u001b[0m             \u001b[0mcentroids\u001b[0m\u001b[1;33m.\u001b[0m\u001b[0mappend\u001b[0m\u001b[1;33m(\u001b[0m\u001b[0mcentroid\u001b[0m\u001b[1;33m)\u001b[0m\u001b[1;33m\u001b[0m\u001b[1;33m\u001b[0m\u001b[0m\n\u001b[0;32m     23\u001b[0m         \u001b[1;32mreturn\u001b[0m \u001b[0mcentroids\u001b[0m\u001b[1;33m\u001b[0m\u001b[1;33m\u001b[0m\u001b[0m\n",
      "\u001b[1;32m~\\AppData\\Local\\Packages\\PythonSoftwareFoundation.Python.3.9_qbz5n2kfra8p0\\LocalCache\\local-packages\\Python39\\site-packages\\pandas\\core\\frame.py\u001b[0m in \u001b[0;36m__getitem__\u001b[1;34m(self, key)\u001b[0m\n\u001b[0;32m   3459\u001b[0m             \u001b[1;32mif\u001b[0m \u001b[0mis_iterator\u001b[0m\u001b[1;33m(\u001b[0m\u001b[0mkey\u001b[0m\u001b[1;33m)\u001b[0m\u001b[1;33m:\u001b[0m\u001b[1;33m\u001b[0m\u001b[1;33m\u001b[0m\u001b[0m\n\u001b[0;32m   3460\u001b[0m                 \u001b[0mkey\u001b[0m \u001b[1;33m=\u001b[0m \u001b[0mlist\u001b[0m\u001b[1;33m(\u001b[0m\u001b[0mkey\u001b[0m\u001b[1;33m)\u001b[0m\u001b[1;33m\u001b[0m\u001b[1;33m\u001b[0m\u001b[0m\n\u001b[1;32m-> 3461\u001b[1;33m             \u001b[0mindexer\u001b[0m \u001b[1;33m=\u001b[0m \u001b[0mself\u001b[0m\u001b[1;33m.\u001b[0m\u001b[0mloc\u001b[0m\u001b[1;33m.\u001b[0m\u001b[0m_get_listlike_indexer\u001b[0m\u001b[1;33m(\u001b[0m\u001b[0mkey\u001b[0m\u001b[1;33m,\u001b[0m \u001b[0maxis\u001b[0m\u001b[1;33m=\u001b[0m\u001b[1;36m1\u001b[0m\u001b[1;33m)\u001b[0m\u001b[1;33m[\u001b[0m\u001b[1;36m1\u001b[0m\u001b[1;33m]\u001b[0m\u001b[1;33m\u001b[0m\u001b[1;33m\u001b[0m\u001b[0m\n\u001b[0m\u001b[0;32m   3462\u001b[0m \u001b[1;33m\u001b[0m\u001b[0m\n\u001b[0;32m   3463\u001b[0m         \u001b[1;31m# take() does not accept boolean indexers\u001b[0m\u001b[1;33m\u001b[0m\u001b[1;33m\u001b[0m\u001b[0m\n",
      "\u001b[1;32m~\\AppData\\Local\\Packages\\PythonSoftwareFoundation.Python.3.9_qbz5n2kfra8p0\\LocalCache\\local-packages\\Python39\\site-packages\\pandas\\core\\indexing.py\u001b[0m in \u001b[0;36m_get_listlike_indexer\u001b[1;34m(self, key, axis)\u001b[0m\n\u001b[0;32m   1312\u001b[0m             \u001b[0mkeyarr\u001b[0m\u001b[1;33m,\u001b[0m \u001b[0mindexer\u001b[0m\u001b[1;33m,\u001b[0m \u001b[0mnew_indexer\u001b[0m \u001b[1;33m=\u001b[0m \u001b[0max\u001b[0m\u001b[1;33m.\u001b[0m\u001b[0m_reindex_non_unique\u001b[0m\u001b[1;33m(\u001b[0m\u001b[0mkeyarr\u001b[0m\u001b[1;33m)\u001b[0m\u001b[1;33m\u001b[0m\u001b[1;33m\u001b[0m\u001b[0m\n\u001b[0;32m   1313\u001b[0m \u001b[1;33m\u001b[0m\u001b[0m\n\u001b[1;32m-> 1314\u001b[1;33m         \u001b[0mself\u001b[0m\u001b[1;33m.\u001b[0m\u001b[0m_validate_read_indexer\u001b[0m\u001b[1;33m(\u001b[0m\u001b[0mkeyarr\u001b[0m\u001b[1;33m,\u001b[0m \u001b[0mindexer\u001b[0m\u001b[1;33m,\u001b[0m \u001b[0maxis\u001b[0m\u001b[1;33m)\u001b[0m\u001b[1;33m\u001b[0m\u001b[1;33m\u001b[0m\u001b[0m\n\u001b[0m\u001b[0;32m   1315\u001b[0m \u001b[1;33m\u001b[0m\u001b[0m\n\u001b[0;32m   1316\u001b[0m         if needs_i8_conversion(ax.dtype) or isinstance(\n",
      "\u001b[1;32m~\\AppData\\Local\\Packages\\PythonSoftwareFoundation.Python.3.9_qbz5n2kfra8p0\\LocalCache\\local-packages\\Python39\\site-packages\\pandas\\core\\indexing.py\u001b[0m in \u001b[0;36m_validate_read_indexer\u001b[1;34m(self, key, indexer, axis)\u001b[0m\n\u001b[0;32m   1372\u001b[0m                 \u001b[1;32mif\u001b[0m \u001b[0muse_interval_msg\u001b[0m\u001b[1;33m:\u001b[0m\u001b[1;33m\u001b[0m\u001b[1;33m\u001b[0m\u001b[0m\n\u001b[0;32m   1373\u001b[0m                     \u001b[0mkey\u001b[0m \u001b[1;33m=\u001b[0m \u001b[0mlist\u001b[0m\u001b[1;33m(\u001b[0m\u001b[0mkey\u001b[0m\u001b[1;33m)\u001b[0m\u001b[1;33m\u001b[0m\u001b[1;33m\u001b[0m\u001b[0m\n\u001b[1;32m-> 1374\u001b[1;33m                 \u001b[1;32mraise\u001b[0m \u001b[0mKeyError\u001b[0m\u001b[1;33m(\u001b[0m\u001b[1;34mf\"None of [{key}] are in the [{axis_name}]\"\u001b[0m\u001b[1;33m)\u001b[0m\u001b[1;33m\u001b[0m\u001b[1;33m\u001b[0m\u001b[0m\n\u001b[0m\u001b[0;32m   1375\u001b[0m \u001b[1;33m\u001b[0m\u001b[0m\n\u001b[0;32m   1376\u001b[0m             \u001b[0mnot_found\u001b[0m \u001b[1;33m=\u001b[0m \u001b[0mlist\u001b[0m\u001b[1;33m(\u001b[0m\u001b[0mensure_index\u001b[0m\u001b[1;33m(\u001b[0m\u001b[0mkey\u001b[0m\u001b[1;33m)\u001b[0m\u001b[1;33m[\u001b[0m\u001b[0mmissing_mask\u001b[0m\u001b[1;33m.\u001b[0m\u001b[0mnonzero\u001b[0m\u001b[1;33m(\u001b[0m\u001b[1;33m)\u001b[0m\u001b[1;33m[\u001b[0m\u001b[1;36m0\u001b[0m\u001b[1;33m]\u001b[0m\u001b[1;33m]\u001b[0m\u001b[1;33m.\u001b[0m\u001b[0munique\u001b[0m\u001b[1;33m(\u001b[0m\u001b[1;33m)\u001b[0m\u001b[1;33m)\u001b[0m\u001b[1;33m\u001b[0m\u001b[1;33m\u001b[0m\u001b[0m\n",
      "\u001b[1;31mKeyError\u001b[0m: \"None of [Int64Index([  50,   66,  106,  153,  231,  233,  266,  281,  360,  460,  475,\\n             535,  582,  587,  650,  657,  683,  776,  780,  847,  899,  999,\\n            1010, 1061, 1117, 1121, 1122, 1126, 1179, 1185, 1206, 1236, 1264,\\n            1267, 1278, 1281, 1291, 1357, 1392, 1428, 1509, 1664, 1754, 1758],\\n           dtype='int64')] are in the [columns]\""
     ]
    }
   ],
   "source": [
    "from kmedias import Kmeans\n",
    "\n",
    "attributes = ['age', 'duracion', 'choleste']\n",
    "label = ['sigdz']\n",
    "\n",
    "data = df[attributes]\n",
    "labels = df[label]\n",
    "    \n",
    "train, test, y_train, y_test = train_test_split(data, labels, test_size=0.2, random_state=69)\n",
    "print(f\"training amount: {len(train)}\\ntesting amount: {len(test)}\")\n",
    "\n",
    "train = train.to_numpy()\n",
    "test = test.to_numpy()\n",
    "y_train = y_train.to_numpy()\n",
    "y_test = y_test.to_numpy().flatten()\n",
    "\n",
    "#k medias\n",
    "clusters_group = [50, 40, 30, 20, 10, 5, 2]\n",
    "with open(f'./results/k_means_output.csv', mode='a+') as f:\n",
    "\n",
    "    for clusters in clusters_group:\n",
    "        for _ in range(10):\n",
    "            # train section\n",
    "            k_means = Kmeans(clusters, train)\n",
    "            k_means.run(5000)\n",
    "            k_means.add_cluster_classification(y_train)\n",
    "\n",
    "            # test section\n",
    "            predictions = k_means.predict(test)\n",
    "\n",
    "            # confusion_matrix = get_confusion_matrix(predictions, test_y)\n",
    "            # precision = get_accuracy(confusion_matrix)\n",
    "            # plot_heatmap(confusion_matrix, f'./results/{filename}_{clusters}_clusters_confusion.jpg')\n",
    "            # f.write(f'k means,{clusters},{round(precision, 4)}\\n')\n",
    "\n",
    "\n",
    "# k_means_program(train, test, y_train, y_test)"
   ]
  }
 ],
 "metadata": {
  "kernelspec": {
   "display_name": "Python 3 (ipykernel)",
   "language": "python",
   "name": "python3"
  },
  "language_info": {
   "codemirror_mode": {
    "name": "ipython",
    "version": 3
   },
   "file_extension": ".py",
   "mimetype": "text/x-python",
   "name": "python",
   "nbconvert_exporter": "python",
   "pygments_lexer": "ipython3",
   "version": "3.9.9"
  }
 },
 "nbformat": 4,
 "nbformat_minor": 5
}
