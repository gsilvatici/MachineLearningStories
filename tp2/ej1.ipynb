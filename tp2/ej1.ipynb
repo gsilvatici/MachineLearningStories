{
 "cells": [
  {
   "cell_type": "code",
   "execution_count": 1,
   "id": "103ffbbe",
   "metadata": {},
   "outputs": [],
   "source": [
    "import numpy as np\n",
    "import pandas as pd\n",
    "from IPython.display import Image\n",
    "from seaborn import heatmap\n",
    "from sklearn.model_selection import train_test_split\n",
    "from src.decision_tree import DecisionTree\n",
    "from src.random_forest import RandomForest\n",
    "from src.aux_functions import *"
   ]
  },
  {
   "cell_type": "markdown",
   "id": "20586817",
   "metadata": {},
   "source": [
    "## Levanto los datos"
   ]
  },
  {
   "cell_type": "code",
   "execution_count": 2,
   "id": "c0645f93",
   "metadata": {},
   "outputs": [
    {
     "data": {
      "text/html": [
       "<div>\n",
       "<style scoped>\n",
       "    .dataframe tbody tr th:only-of-type {\n",
       "        vertical-align: middle;\n",
       "    }\n",
       "\n",
       "    .dataframe tbody tr th {\n",
       "        vertical-align: top;\n",
       "    }\n",
       "\n",
       "    .dataframe thead th {\n",
       "        text-align: right;\n",
       "    }\n",
       "</style>\n",
       "<table border=\"1\" class=\"dataframe\">\n",
       "  <thead>\n",
       "    <tr style=\"text-align: right;\">\n",
       "      <th></th>\n",
       "      <th>Creditability</th>\n",
       "      <th>Account Balance</th>\n",
       "      <th>Duration of Credit (month)</th>\n",
       "      <th>Payment Status of Previous Credit</th>\n",
       "      <th>Purpose</th>\n",
       "      <th>Credit Amount</th>\n",
       "      <th>Value Savings/Stocks</th>\n",
       "      <th>Length of current employment</th>\n",
       "      <th>Instalment per cent</th>\n",
       "      <th>Sex &amp; Marital Status</th>\n",
       "      <th>...</th>\n",
       "      <th>Duration in Current address</th>\n",
       "      <th>Most valuable available asset</th>\n",
       "      <th>Age (years)</th>\n",
       "      <th>Concurrent Credits</th>\n",
       "      <th>Type of apartment</th>\n",
       "      <th>No of Credits at this Bank</th>\n",
       "      <th>Occupation</th>\n",
       "      <th>No of dependents</th>\n",
       "      <th>Telephone</th>\n",
       "      <th>Foreign Worker</th>\n",
       "    </tr>\n",
       "  </thead>\n",
       "  <tbody>\n",
       "    <tr>\n",
       "      <th>0</th>\n",
       "      <td>1</td>\n",
       "      <td>1</td>\n",
       "      <td>18</td>\n",
       "      <td>4</td>\n",
       "      <td>2</td>\n",
       "      <td>1049</td>\n",
       "      <td>1</td>\n",
       "      <td>2</td>\n",
       "      <td>4</td>\n",
       "      <td>2</td>\n",
       "      <td>...</td>\n",
       "      <td>4</td>\n",
       "      <td>2</td>\n",
       "      <td>21</td>\n",
       "      <td>3</td>\n",
       "      <td>1</td>\n",
       "      <td>1</td>\n",
       "      <td>3</td>\n",
       "      <td>1</td>\n",
       "      <td>1</td>\n",
       "      <td>1</td>\n",
       "    </tr>\n",
       "    <tr>\n",
       "      <th>1</th>\n",
       "      <td>1</td>\n",
       "      <td>1</td>\n",
       "      <td>9</td>\n",
       "      <td>4</td>\n",
       "      <td>0</td>\n",
       "      <td>2799</td>\n",
       "      <td>1</td>\n",
       "      <td>3</td>\n",
       "      <td>2</td>\n",
       "      <td>3</td>\n",
       "      <td>...</td>\n",
       "      <td>2</td>\n",
       "      <td>1</td>\n",
       "      <td>36</td>\n",
       "      <td>3</td>\n",
       "      <td>1</td>\n",
       "      <td>2</td>\n",
       "      <td>3</td>\n",
       "      <td>2</td>\n",
       "      <td>1</td>\n",
       "      <td>1</td>\n",
       "    </tr>\n",
       "    <tr>\n",
       "      <th>2</th>\n",
       "      <td>1</td>\n",
       "      <td>2</td>\n",
       "      <td>12</td>\n",
       "      <td>2</td>\n",
       "      <td>9</td>\n",
       "      <td>841</td>\n",
       "      <td>2</td>\n",
       "      <td>4</td>\n",
       "      <td>2</td>\n",
       "      <td>2</td>\n",
       "      <td>...</td>\n",
       "      <td>4</td>\n",
       "      <td>1</td>\n",
       "      <td>23</td>\n",
       "      <td>3</td>\n",
       "      <td>1</td>\n",
       "      <td>1</td>\n",
       "      <td>2</td>\n",
       "      <td>1</td>\n",
       "      <td>1</td>\n",
       "      <td>1</td>\n",
       "    </tr>\n",
       "    <tr>\n",
       "      <th>3</th>\n",
       "      <td>1</td>\n",
       "      <td>1</td>\n",
       "      <td>12</td>\n",
       "      <td>4</td>\n",
       "      <td>0</td>\n",
       "      <td>2122</td>\n",
       "      <td>1</td>\n",
       "      <td>3</td>\n",
       "      <td>3</td>\n",
       "      <td>3</td>\n",
       "      <td>...</td>\n",
       "      <td>2</td>\n",
       "      <td>1</td>\n",
       "      <td>39</td>\n",
       "      <td>3</td>\n",
       "      <td>1</td>\n",
       "      <td>2</td>\n",
       "      <td>2</td>\n",
       "      <td>2</td>\n",
       "      <td>1</td>\n",
       "      <td>2</td>\n",
       "    </tr>\n",
       "    <tr>\n",
       "      <th>4</th>\n",
       "      <td>1</td>\n",
       "      <td>1</td>\n",
       "      <td>12</td>\n",
       "      <td>4</td>\n",
       "      <td>0</td>\n",
       "      <td>2171</td>\n",
       "      <td>1</td>\n",
       "      <td>3</td>\n",
       "      <td>4</td>\n",
       "      <td>3</td>\n",
       "      <td>...</td>\n",
       "      <td>4</td>\n",
       "      <td>2</td>\n",
       "      <td>38</td>\n",
       "      <td>1</td>\n",
       "      <td>2</td>\n",
       "      <td>2</td>\n",
       "      <td>2</td>\n",
       "      <td>1</td>\n",
       "      <td>1</td>\n",
       "      <td>2</td>\n",
       "    </tr>\n",
       "    <tr>\n",
       "      <th>...</th>\n",
       "      <td>...</td>\n",
       "      <td>...</td>\n",
       "      <td>...</td>\n",
       "      <td>...</td>\n",
       "      <td>...</td>\n",
       "      <td>...</td>\n",
       "      <td>...</td>\n",
       "      <td>...</td>\n",
       "      <td>...</td>\n",
       "      <td>...</td>\n",
       "      <td>...</td>\n",
       "      <td>...</td>\n",
       "      <td>...</td>\n",
       "      <td>...</td>\n",
       "      <td>...</td>\n",
       "      <td>...</td>\n",
       "      <td>...</td>\n",
       "      <td>...</td>\n",
       "      <td>...</td>\n",
       "      <td>...</td>\n",
       "      <td>...</td>\n",
       "    </tr>\n",
       "    <tr>\n",
       "      <th>995</th>\n",
       "      <td>0</td>\n",
       "      <td>1</td>\n",
       "      <td>24</td>\n",
       "      <td>2</td>\n",
       "      <td>3</td>\n",
       "      <td>1987</td>\n",
       "      <td>1</td>\n",
       "      <td>3</td>\n",
       "      <td>2</td>\n",
       "      <td>3</td>\n",
       "      <td>...</td>\n",
       "      <td>4</td>\n",
       "      <td>1</td>\n",
       "      <td>21</td>\n",
       "      <td>3</td>\n",
       "      <td>1</td>\n",
       "      <td>1</td>\n",
       "      <td>2</td>\n",
       "      <td>2</td>\n",
       "      <td>1</td>\n",
       "      <td>1</td>\n",
       "    </tr>\n",
       "    <tr>\n",
       "      <th>996</th>\n",
       "      <td>0</td>\n",
       "      <td>1</td>\n",
       "      <td>24</td>\n",
       "      <td>2</td>\n",
       "      <td>0</td>\n",
       "      <td>2303</td>\n",
       "      <td>1</td>\n",
       "      <td>5</td>\n",
       "      <td>4</td>\n",
       "      <td>3</td>\n",
       "      <td>...</td>\n",
       "      <td>1</td>\n",
       "      <td>1</td>\n",
       "      <td>45</td>\n",
       "      <td>3</td>\n",
       "      <td>2</td>\n",
       "      <td>1</td>\n",
       "      <td>3</td>\n",
       "      <td>1</td>\n",
       "      <td>1</td>\n",
       "      <td>1</td>\n",
       "    </tr>\n",
       "    <tr>\n",
       "      <th>997</th>\n",
       "      <td>0</td>\n",
       "      <td>4</td>\n",
       "      <td>21</td>\n",
       "      <td>4</td>\n",
       "      <td>0</td>\n",
       "      <td>12680</td>\n",
       "      <td>5</td>\n",
       "      <td>5</td>\n",
       "      <td>4</td>\n",
       "      <td>3</td>\n",
       "      <td>...</td>\n",
       "      <td>4</td>\n",
       "      <td>4</td>\n",
       "      <td>30</td>\n",
       "      <td>3</td>\n",
       "      <td>3</td>\n",
       "      <td>1</td>\n",
       "      <td>4</td>\n",
       "      <td>1</td>\n",
       "      <td>2</td>\n",
       "      <td>1</td>\n",
       "    </tr>\n",
       "    <tr>\n",
       "      <th>998</th>\n",
       "      <td>0</td>\n",
       "      <td>2</td>\n",
       "      <td>12</td>\n",
       "      <td>2</td>\n",
       "      <td>3</td>\n",
       "      <td>6468</td>\n",
       "      <td>5</td>\n",
       "      <td>1</td>\n",
       "      <td>2</td>\n",
       "      <td>3</td>\n",
       "      <td>...</td>\n",
       "      <td>1</td>\n",
       "      <td>4</td>\n",
       "      <td>52</td>\n",
       "      <td>3</td>\n",
       "      <td>2</td>\n",
       "      <td>1</td>\n",
       "      <td>4</td>\n",
       "      <td>1</td>\n",
       "      <td>2</td>\n",
       "      <td>1</td>\n",
       "    </tr>\n",
       "    <tr>\n",
       "      <th>999</th>\n",
       "      <td>0</td>\n",
       "      <td>1</td>\n",
       "      <td>30</td>\n",
       "      <td>2</td>\n",
       "      <td>2</td>\n",
       "      <td>6350</td>\n",
       "      <td>5</td>\n",
       "      <td>5</td>\n",
       "      <td>4</td>\n",
       "      <td>3</td>\n",
       "      <td>...</td>\n",
       "      <td>4</td>\n",
       "      <td>2</td>\n",
       "      <td>31</td>\n",
       "      <td>3</td>\n",
       "      <td>2</td>\n",
       "      <td>1</td>\n",
       "      <td>3</td>\n",
       "      <td>1</td>\n",
       "      <td>1</td>\n",
       "      <td>1</td>\n",
       "    </tr>\n",
       "  </tbody>\n",
       "</table>\n",
       "<p>1000 rows × 21 columns</p>\n",
       "</div>"
      ],
      "text/plain": [
       "     Creditability  Account Balance  Duration of Credit (month)  \\\n",
       "0                1                1                          18   \n",
       "1                1                1                           9   \n",
       "2                1                2                          12   \n",
       "3                1                1                          12   \n",
       "4                1                1                          12   \n",
       "..             ...              ...                         ...   \n",
       "995              0                1                          24   \n",
       "996              0                1                          24   \n",
       "997              0                4                          21   \n",
       "998              0                2                          12   \n",
       "999              0                1                          30   \n",
       "\n",
       "     Payment Status of Previous Credit  Purpose  Credit Amount  \\\n",
       "0                                    4        2           1049   \n",
       "1                                    4        0           2799   \n",
       "2                                    2        9            841   \n",
       "3                                    4        0           2122   \n",
       "4                                    4        0           2171   \n",
       "..                                 ...      ...            ...   \n",
       "995                                  2        3           1987   \n",
       "996                                  2        0           2303   \n",
       "997                                  4        0          12680   \n",
       "998                                  2        3           6468   \n",
       "999                                  2        2           6350   \n",
       "\n",
       "     Value Savings/Stocks  Length of current employment  Instalment per cent  \\\n",
       "0                       1                             2                    4   \n",
       "1                       1                             3                    2   \n",
       "2                       2                             4                    2   \n",
       "3                       1                             3                    3   \n",
       "4                       1                             3                    4   \n",
       "..                    ...                           ...                  ...   \n",
       "995                     1                             3                    2   \n",
       "996                     1                             5                    4   \n",
       "997                     5                             5                    4   \n",
       "998                     5                             1                    2   \n",
       "999                     5                             5                    4   \n",
       "\n",
       "     Sex & Marital Status  ...  Duration in Current address  \\\n",
       "0                       2  ...                            4   \n",
       "1                       3  ...                            2   \n",
       "2                       2  ...                            4   \n",
       "3                       3  ...                            2   \n",
       "4                       3  ...                            4   \n",
       "..                    ...  ...                          ...   \n",
       "995                     3  ...                            4   \n",
       "996                     3  ...                            1   \n",
       "997                     3  ...                            4   \n",
       "998                     3  ...                            1   \n",
       "999                     3  ...                            4   \n",
       "\n",
       "     Most valuable available asset  Age (years)  Concurrent Credits  \\\n",
       "0                                2           21                   3   \n",
       "1                                1           36                   3   \n",
       "2                                1           23                   3   \n",
       "3                                1           39                   3   \n",
       "4                                2           38                   1   \n",
       "..                             ...          ...                 ...   \n",
       "995                              1           21                   3   \n",
       "996                              1           45                   3   \n",
       "997                              4           30                   3   \n",
       "998                              4           52                   3   \n",
       "999                              2           31                   3   \n",
       "\n",
       "     Type of apartment  No of Credits at this Bank  Occupation  \\\n",
       "0                    1                           1           3   \n",
       "1                    1                           2           3   \n",
       "2                    1                           1           2   \n",
       "3                    1                           2           2   \n",
       "4                    2                           2           2   \n",
       "..                 ...                         ...         ...   \n",
       "995                  1                           1           2   \n",
       "996                  2                           1           3   \n",
       "997                  3                           1           4   \n",
       "998                  2                           1           4   \n",
       "999                  2                           1           3   \n",
       "\n",
       "     No of dependents  Telephone  Foreign Worker  \n",
       "0                   1          1               1  \n",
       "1                   2          1               1  \n",
       "2                   1          1               1  \n",
       "3                   2          1               2  \n",
       "4                   1          1               2  \n",
       "..                ...        ...             ...  \n",
       "995                 2          1               1  \n",
       "996                 1          1               1  \n",
       "997                 1          2               1  \n",
       "998                 1          2               1  \n",
       "999                 1          1               1  \n",
       "\n",
       "[1000 rows x 21 columns]"
      ]
     },
     "execution_count": 2,
     "metadata": {},
     "output_type": "execute_result"
    }
   ],
   "source": [
    "df = pd.read_csv('datasets/german_credit.csv')\n",
    "df"
   ]
  },
  {
   "cell_type": "markdown",
   "id": "da9be7b8",
   "metadata": {},
   "source": [
    "## Discretización"
   ]
  },
  {
   "cell_type": "markdown",
   "id": "b7e9a374",
   "metadata": {},
   "source": [
    "### Duration of Credit (month)"
   ]
  },
  {
   "cell_type": "code",
   "execution_count": 3,
   "id": "dc175df9",
   "metadata": {},
   "outputs": [],
   "source": [
    "for i, row in df.iterrows():\n",
    "    key = 'Duration of Credit (month)'\n",
    "    val = row[key]\n",
    "    if val < 12:\n",
    "        df.at[i,key] = 1\n",
    "    elif val >=12 and val < 18:\n",
    "        df.at[i, key] = 2\n",
    "    elif val >=18 and val < 25:\n",
    "        df.at[i, key] = 3\n",
    "    else:\n",
    "        df.at[i, key] = 4"
   ]
  },
  {
   "cell_type": "code",
   "execution_count": 4,
   "id": "61e443af",
   "metadata": {},
   "outputs": [
    {
     "data": {
      "text/plain": [
       "array([3, 1, 2, 4])"
      ]
     },
     "execution_count": 4,
     "metadata": {},
     "output_type": "execute_result"
    }
   ],
   "source": [
    "df['Duration of Credit (month)'].unique()"
   ]
  },
  {
   "cell_type": "markdown",
   "id": "7832ab22",
   "metadata": {},
   "source": [
    "### Credit Amount"
   ]
  },
  {
   "cell_type": "code",
   "execution_count": 5,
   "id": "f33c6658",
   "metadata": {},
   "outputs": [],
   "source": [
    "for i, row in df.iterrows():\n",
    "    key = 'Credit Amount'\n",
    "    val = row[key]\n",
    "    if val < 1200:\n",
    "        df.at[i,key] = 1\n",
    "    elif val >=1200 and val < 2000:\n",
    "        df.at[i, key] = 2\n",
    "    elif val >=2000 and val < 3000:\n",
    "        df.at[i, key] = 3\n",
    "    elif val >=3000 and val < 5000:\n",
    "        df.at[i, key] = 4\n",
    "    else:\n",
    "        df.at[i, key] = 5"
   ]
  },
  {
   "cell_type": "code",
   "execution_count": 6,
   "id": "68bd228c",
   "metadata": {},
   "outputs": [
    {
     "data": {
      "text/plain": [
       "array([1, 3, 4, 2, 5])"
      ]
     },
     "execution_count": 6,
     "metadata": {},
     "output_type": "execute_result"
    }
   ],
   "source": [
    "df['Credit Amount'].unique()"
   ]
  },
  {
   "cell_type": "markdown",
   "id": "4fc27f67",
   "metadata": {},
   "source": [
    "### Age (years)"
   ]
  },
  {
   "cell_type": "code",
   "execution_count": 7,
   "id": "4c27f413",
   "metadata": {},
   "outputs": [],
   "source": [
    "for i, row in df.iterrows():\n",
    "    key = 'Age (years)'\n",
    "    val = row[key]\n",
    "    if val < 27:\n",
    "        df.at[i,key] = 1\n",
    "    elif val >=27 and val < 34:\n",
    "        df.at[i, key] = 2\n",
    "    elif val >=34 and val < 44:\n",
    "        df.at[i, key] = 3\n",
    "    else:\n",
    "        df.at[i, key] = 4"
   ]
  },
  {
   "cell_type": "code",
   "execution_count": 8,
   "id": "2b2cf8c0",
   "metadata": {},
   "outputs": [
    {
     "data": {
      "text/plain": [
       "array([1, 3, 4, 2])"
      ]
     },
     "execution_count": 8,
     "metadata": {},
     "output_type": "execute_result"
    }
   ],
   "source": [
    "df['Age (years)'].unique()"
   ]
  },
  {
   "cell_type": "code",
   "execution_count": 9,
   "id": "3efa56eb",
   "metadata": {},
   "outputs": [
    {
     "name": "stdout",
     "output_type": "stream",
     "text": [
      "Creditability: [0, 1]\n",
      "Account Balance: [1, 2, 3, 4]\n",
      "Duration of Credit (month): [1, 2, 3, 4]\n",
      "Payment Status of Previous Credit: [0, 1, 2, 3, 4]\n",
      "Purpose: [0, 1, 2, 3, 4, 5, 6, 8, 9, 10]\n",
      "Credit Amount: [1, 2, 3, 4, 5]\n",
      "Value Savings/Stocks: [1, 2, 3, 4, 5]\n",
      "Length of current employment: [1, 2, 3, 4, 5]\n",
      "Instalment per cent: [1, 2, 3, 4]\n",
      "Sex & Marital Status: [1, 2, 3, 4]\n",
      "Guarantors: [1, 2, 3]\n",
      "Duration in Current address: [1, 2, 3, 4]\n",
      "Most valuable available asset: [1, 2, 3, 4]\n",
      "Age (years): [1, 2, 3, 4]\n",
      "Concurrent Credits: [1, 2, 3]\n",
      "Type of apartment: [1, 2, 3]\n",
      "No of Credits at this Bank: [1, 2, 3, 4]\n",
      "Occupation: [1, 2, 3, 4]\n",
      "No of dependents: [1, 2]\n",
      "Telephone: [1, 2]\n",
      "Foreign Worker: [1, 2]\n"
     ]
    }
   ],
   "source": [
    "for key in df:\n",
    "    print(f\"{key}: {sorted(df[key].unique())}\")"
   ]
  },
  {
   "cell_type": "code",
   "execution_count": 10,
   "id": "fcf17390",
   "metadata": {},
   "outputs": [],
   "source": [
    "data = df.copy()"
   ]
  },
  {
   "cell_type": "markdown",
   "id": "df657456",
   "metadata": {},
   "source": [
    "## Ejercicio a)"
   ]
  },
  {
   "cell_type": "code",
   "execution_count": 17,
   "id": "c697e93c",
   "metadata": {},
   "outputs": [
    {
     "name": "stdout",
     "output_type": "stream",
     "text": [
      "amount of training: 900\n",
      "amount of testing: 100\n"
     ]
    }
   ],
   "source": [
    "training, testing = train_test_split(data, test_size=0.1)\n",
    "print(f\"amount of training: {len(training)}\")\n",
    "print(f\"amount of testing: {len(testing)}\")"
   ]
  },
  {
   "cell_type": "markdown",
   "id": "2d9b887f",
   "metadata": {},
   "source": [
    "## Ejercicio b)"
   ]
  },
  {
   "cell_type": "code",
   "execution_count": 22,
   "id": "cdb2208d",
   "metadata": {
    "scrolled": true
   },
   "outputs": [],
   "source": [
    "from src.decision_tree import DecisionTree\n",
    "config = {\n",
    "    'gain_function': 'shannon',\n",
    "    'objective':'Creditability',\n",
    "    'max_depth': 10\n",
    "}\n",
    "# training = training.astype(str)\n",
    "# testing = testing.astype(str)\n",
    "etree = DecisionTree(training, config, simplify=False)\n",
    "forest = RandomForest(training, config, sample_proportion=0.7, tree_count=5)"
   ]
  },
  {
   "cell_type": "code",
   "execution_count": 16,
   "id": "ae896fb3",
   "metadata": {},
   "outputs": [],
   "source": [
    "#dot = etree.digraph()\n",
    "#dot.format = 'png'\n",
    "#dot.render(filename='ej1b', directory='./graphics')\n",
    "\n",
    "#Image('graphics/ej1b.png')"
   ]
  },
  {
   "cell_type": "code",
   "execution_count": 23,
   "id": "436b8d52",
   "metadata": {},
   "outputs": [],
   "source": [
    "expected = list(testing['Creditability'])\n",
    "test = testing.to_dict('records')\n",
    "predicted_tree = etree.predict(test)\n",
    "predicted_forest = forest.predict(test)"
   ]
  },
  {
   "cell_type": "code",
   "execution_count": 28,
   "id": "4e0b2daf",
   "metadata": {},
   "outputs": [
    {
     "name": "stdout",
     "output_type": "stream",
     "text": [
      "tree matrix\n",
      "forest matrix\n"
     ]
    },
    {
     "data": {
      "image/png": "[encoded data removed]",
      "text/plain": [
       "<Figure size 432x288 with 3 Axes>"
      ]
     },
     "metadata": {
      "needs_background": "light"
     },
     "output_type": "display_data"
    }
   ],
   "source": [
    "matrix_tree = confusion_matrix(predicted_tree, expected, [0, 1])\n",
    "matrix_forest = confusion_matrix(predicted_forest, expected, [0, 1])\n",
    "print(\"tree matrix\")\n",
    "heatmap(matrix_tree, annot=True, cmap='Blues', fmt='g')\n",
    "print(\"forest matrix\")\n",
    "heatmap(matrix_forest, annot=True, cmap='Reds', fmt='g')"
   ]
  }
 ],
 "metadata": {
  "kernelspec": {
   "display_name": "Python 3 (ipykernel)",
   "language": "python",
   "name": "python3"
  },
  "language_info": {
   "codemirror_mode": {
    "name": "ipython",
    "version": 3
   },
   "file_extension": ".py",
   "mimetype": "text/x-python",
   "name": "python",
   "nbconvert_exporter": "python",
   "pygments_lexer": "ipython3",
   "version": "3.8.10"
  }
 },
 "nbformat": 4,
 "nbformat_minor": 5
}
