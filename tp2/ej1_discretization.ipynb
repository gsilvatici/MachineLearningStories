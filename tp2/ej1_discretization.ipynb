{
 "cells": [
  {
   "cell_type": "code",
   "execution_count": 1,
   "id": "89b74e0c",
   "metadata": {},
   "outputs": [],
   "source": [
    "import pandas as pd"
   ]
  },
  {
   "cell_type": "markdown",
   "id": "06f334e5",
   "metadata": {},
   "source": [
    "## Levanto los datos"
   ]
  },
  {
   "cell_type": "code",
   "execution_count": 2,
   "id": "137d8c8b",
   "metadata": {},
   "outputs": [
    {
     "data": {
      "text/html": [
       "<div>\n",
       "<style scoped>\n",
       "    .dataframe tbody tr th:only-of-type {\n",
       "        vertical-align: middle;\n",
       "    }\n",
       "\n",
       "    .dataframe tbody tr th {\n",
       "        vertical-align: top;\n",
       "    }\n",
       "\n",
       "    .dataframe thead th {\n",
       "        text-align: right;\n",
       "    }\n",
       "</style>\n",
       "<table border=\"1\" class=\"dataframe\">\n",
       "  <thead>\n",
       "    <tr style=\"text-align: right;\">\n",
       "      <th></th>\n",
       "      <th>Creditability</th>\n",
       "      <th>Account Balance</th>\n",
       "      <th>Duration of Credit (month)</th>\n",
       "      <th>Payment Status of Previous Credit</th>\n",
       "      <th>Purpose</th>\n",
       "      <th>Credit Amount</th>\n",
       "      <th>Value Savings/Stocks</th>\n",
       "      <th>Length of current employment</th>\n",
       "      <th>Instalment per cent</th>\n",
       "      <th>Sex &amp; Marital Status</th>\n",
       "      <th>...</th>\n",
       "      <th>Duration in Current address</th>\n",
       "      <th>Most valuable available asset</th>\n",
       "      <th>Age (years)</th>\n",
       "      <th>Concurrent Credits</th>\n",
       "      <th>Type of apartment</th>\n",
       "      <th>No of Credits at this Bank</th>\n",
       "      <th>Occupation</th>\n",
       "      <th>No of dependents</th>\n",
       "      <th>Telephone</th>\n",
       "      <th>Foreign Worker</th>\n",
       "    </tr>\n",
       "  </thead>\n",
       "  <tbody>\n",
       "    <tr>\n",
       "      <th>0</th>\n",
       "      <td>1</td>\n",
       "      <td>1</td>\n",
       "      <td>18</td>\n",
       "      <td>4</td>\n",
       "      <td>2</td>\n",
       "      <td>1049</td>\n",
       "      <td>1</td>\n",
       "      <td>2</td>\n",
       "      <td>4</td>\n",
       "      <td>2</td>\n",
       "      <td>...</td>\n",
       "      <td>4</td>\n",
       "      <td>2</td>\n",
       "      <td>21</td>\n",
       "      <td>3</td>\n",
       "      <td>1</td>\n",
       "      <td>1</td>\n",
       "      <td>3</td>\n",
       "      <td>1</td>\n",
       "      <td>1</td>\n",
       "      <td>1</td>\n",
       "    </tr>\n",
       "    <tr>\n",
       "      <th>1</th>\n",
       "      <td>1</td>\n",
       "      <td>1</td>\n",
       "      <td>9</td>\n",
       "      <td>4</td>\n",
       "      <td>0</td>\n",
       "      <td>2799</td>\n",
       "      <td>1</td>\n",
       "      <td>3</td>\n",
       "      <td>2</td>\n",
       "      <td>3</td>\n",
       "      <td>...</td>\n",
       "      <td>2</td>\n",
       "      <td>1</td>\n",
       "      <td>36</td>\n",
       "      <td>3</td>\n",
       "      <td>1</td>\n",
       "      <td>2</td>\n",
       "      <td>3</td>\n",
       "      <td>2</td>\n",
       "      <td>1</td>\n",
       "      <td>1</td>\n",
       "    </tr>\n",
       "    <tr>\n",
       "      <th>2</th>\n",
       "      <td>1</td>\n",
       "      <td>2</td>\n",
       "      <td>12</td>\n",
       "      <td>2</td>\n",
       "      <td>9</td>\n",
       "      <td>841</td>\n",
       "      <td>2</td>\n",
       "      <td>4</td>\n",
       "      <td>2</td>\n",
       "      <td>2</td>\n",
       "      <td>...</td>\n",
       "      <td>4</td>\n",
       "      <td>1</td>\n",
       "      <td>23</td>\n",
       "      <td>3</td>\n",
       "      <td>1</td>\n",
       "      <td>1</td>\n",
       "      <td>2</td>\n",
       "      <td>1</td>\n",
       "      <td>1</td>\n",
       "      <td>1</td>\n",
       "    </tr>\n",
       "    <tr>\n",
       "      <th>3</th>\n",
       "      <td>1</td>\n",
       "      <td>1</td>\n",
       "      <td>12</td>\n",
       "      <td>4</td>\n",
       "      <td>0</td>\n",
       "      <td>2122</td>\n",
       "      <td>1</td>\n",
       "      <td>3</td>\n",
       "      <td>3</td>\n",
       "      <td>3</td>\n",
       "      <td>...</td>\n",
       "      <td>2</td>\n",
       "      <td>1</td>\n",
       "      <td>39</td>\n",
       "      <td>3</td>\n",
       "      <td>1</td>\n",
       "      <td>2</td>\n",
       "      <td>2</td>\n",
       "      <td>2</td>\n",
       "      <td>1</td>\n",
       "      <td>2</td>\n",
       "    </tr>\n",
       "    <tr>\n",
       "      <th>4</th>\n",
       "      <td>1</td>\n",
       "      <td>1</td>\n",
       "      <td>12</td>\n",
       "      <td>4</td>\n",
       "      <td>0</td>\n",
       "      <td>2171</td>\n",
       "      <td>1</td>\n",
       "      <td>3</td>\n",
       "      <td>4</td>\n",
       "      <td>3</td>\n",
       "      <td>...</td>\n",
       "      <td>4</td>\n",
       "      <td>2</td>\n",
       "      <td>38</td>\n",
       "      <td>1</td>\n",
       "      <td>2</td>\n",
       "      <td>2</td>\n",
       "      <td>2</td>\n",
       "      <td>1</td>\n",
       "      <td>1</td>\n",
       "      <td>2</td>\n",
       "    </tr>\n",
       "    <tr>\n",
       "      <th>...</th>\n",
       "      <td>...</td>\n",
       "      <td>...</td>\n",
       "      <td>...</td>\n",
       "      <td>...</td>\n",
       "      <td>...</td>\n",
       "      <td>...</td>\n",
       "      <td>...</td>\n",
       "      <td>...</td>\n",
       "      <td>...</td>\n",
       "      <td>...</td>\n",
       "      <td>...</td>\n",
       "      <td>...</td>\n",
       "      <td>...</td>\n",
       "      <td>...</td>\n",
       "      <td>...</td>\n",
       "      <td>...</td>\n",
       "      <td>...</td>\n",
       "      <td>...</td>\n",
       "      <td>...</td>\n",
       "      <td>...</td>\n",
       "      <td>...</td>\n",
       "    </tr>\n",
       "    <tr>\n",
       "      <th>995</th>\n",
       "      <td>0</td>\n",
       "      <td>1</td>\n",
       "      <td>24</td>\n",
       "      <td>2</td>\n",
       "      <td>3</td>\n",
       "      <td>1987</td>\n",
       "      <td>1</td>\n",
       "      <td>3</td>\n",
       "      <td>2</td>\n",
       "      <td>3</td>\n",
       "      <td>...</td>\n",
       "      <td>4</td>\n",
       "      <td>1</td>\n",
       "      <td>21</td>\n",
       "      <td>3</td>\n",
       "      <td>1</td>\n",
       "      <td>1</td>\n",
       "      <td>2</td>\n",
       "      <td>2</td>\n",
       "      <td>1</td>\n",
       "      <td>1</td>\n",
       "    </tr>\n",
       "    <tr>\n",
       "      <th>996</th>\n",
       "      <td>0</td>\n",
       "      <td>1</td>\n",
       "      <td>24</td>\n",
       "      <td>2</td>\n",
       "      <td>0</td>\n",
       "      <td>2303</td>\n",
       "      <td>1</td>\n",
       "      <td>5</td>\n",
       "      <td>4</td>\n",
       "      <td>3</td>\n",
       "      <td>...</td>\n",
       "      <td>1</td>\n",
       "      <td>1</td>\n",
       "      <td>45</td>\n",
       "      <td>3</td>\n",
       "      <td>2</td>\n",
       "      <td>1</td>\n",
       "      <td>3</td>\n",
       "      <td>1</td>\n",
       "      <td>1</td>\n",
       "      <td>1</td>\n",
       "    </tr>\n",
       "    <tr>\n",
       "      <th>997</th>\n",
       "      <td>0</td>\n",
       "      <td>4</td>\n",
       "      <td>21</td>\n",
       "      <td>4</td>\n",
       "      <td>0</td>\n",
       "      <td>12680</td>\n",
       "      <td>5</td>\n",
       "      <td>5</td>\n",
       "      <td>4</td>\n",
       "      <td>3</td>\n",
       "      <td>...</td>\n",
       "      <td>4</td>\n",
       "      <td>4</td>\n",
       "      <td>30</td>\n",
       "      <td>3</td>\n",
       "      <td>3</td>\n",
       "      <td>1</td>\n",
       "      <td>4</td>\n",
       "      <td>1</td>\n",
       "      <td>2</td>\n",
       "      <td>1</td>\n",
       "    </tr>\n",
       "    <tr>\n",
       "      <th>998</th>\n",
       "      <td>0</td>\n",
       "      <td>2</td>\n",
       "      <td>12</td>\n",
       "      <td>2</td>\n",
       "      <td>3</td>\n",
       "      <td>6468</td>\n",
       "      <td>5</td>\n",
       "      <td>1</td>\n",
       "      <td>2</td>\n",
       "      <td>3</td>\n",
       "      <td>...</td>\n",
       "      <td>1</td>\n",
       "      <td>4</td>\n",
       "      <td>52</td>\n",
       "      <td>3</td>\n",
       "      <td>2</td>\n",
       "      <td>1</td>\n",
       "      <td>4</td>\n",
       "      <td>1</td>\n",
       "      <td>2</td>\n",
       "      <td>1</td>\n",
       "    </tr>\n",
       "    <tr>\n",
       "      <th>999</th>\n",
       "      <td>0</td>\n",
       "      <td>1</td>\n",
       "      <td>30</td>\n",
       "      <td>2</td>\n",
       "      <td>2</td>\n",
       "      <td>6350</td>\n",
       "      <td>5</td>\n",
       "      <td>5</td>\n",
       "      <td>4</td>\n",
       "      <td>3</td>\n",
       "      <td>...</td>\n",
       "      <td>4</td>\n",
       "      <td>2</td>\n",
       "      <td>31</td>\n",
       "      <td>3</td>\n",
       "      <td>2</td>\n",
       "      <td>1</td>\n",
       "      <td>3</td>\n",
       "      <td>1</td>\n",
       "      <td>1</td>\n",
       "      <td>1</td>\n",
       "    </tr>\n",
       "  </tbody>\n",
       "</table>\n",
       "<p>1000 rows × 21 columns</p>\n",
       "</div>"
      ],
      "text/plain": [
       "     Creditability  Account Balance  Duration of Credit (month)  \\\n",
       "0                1                1                          18   \n",
       "1                1                1                           9   \n",
       "2                1                2                          12   \n",
       "3                1                1                          12   \n",
       "4                1                1                          12   \n",
       "..             ...              ...                         ...   \n",
       "995              0                1                          24   \n",
       "996              0                1                          24   \n",
       "997              0                4                          21   \n",
       "998              0                2                          12   \n",
       "999              0                1                          30   \n",
       "\n",
       "     Payment Status of Previous Credit  Purpose  Credit Amount  \\\n",
       "0                                    4        2           1049   \n",
       "1                                    4        0           2799   \n",
       "2                                    2        9            841   \n",
       "3                                    4        0           2122   \n",
       "4                                    4        0           2171   \n",
       "..                                 ...      ...            ...   \n",
       "995                                  2        3           1987   \n",
       "996                                  2        0           2303   \n",
       "997                                  4        0          12680   \n",
       "998                                  2        3           6468   \n",
       "999                                  2        2           6350   \n",
       "\n",
       "     Value Savings/Stocks  Length of current employment  Instalment per cent  \\\n",
       "0                       1                             2                    4   \n",
       "1                       1                             3                    2   \n",
       "2                       2                             4                    2   \n",
       "3                       1                             3                    3   \n",
       "4                       1                             3                    4   \n",
       "..                    ...                           ...                  ...   \n",
       "995                     1                             3                    2   \n",
       "996                     1                             5                    4   \n",
       "997                     5                             5                    4   \n",
       "998                     5                             1                    2   \n",
       "999                     5                             5                    4   \n",
       "\n",
       "     Sex & Marital Status  ...  Duration in Current address  \\\n",
       "0                       2  ...                            4   \n",
       "1                       3  ...                            2   \n",
       "2                       2  ...                            4   \n",
       "3                       3  ...                            2   \n",
       "4                       3  ...                            4   \n",
       "..                    ...  ...                          ...   \n",
       "995                     3  ...                            4   \n",
       "996                     3  ...                            1   \n",
       "997                     3  ...                            4   \n",
       "998                     3  ...                            1   \n",
       "999                     3  ...                            4   \n",
       "\n",
       "     Most valuable available asset  Age (years)  Concurrent Credits  \\\n",
       "0                                2           21                   3   \n",
       "1                                1           36                   3   \n",
       "2                                1           23                   3   \n",
       "3                                1           39                   3   \n",
       "4                                2           38                   1   \n",
       "..                             ...          ...                 ...   \n",
       "995                              1           21                   3   \n",
       "996                              1           45                   3   \n",
       "997                              4           30                   3   \n",
       "998                              4           52                   3   \n",
       "999                              2           31                   3   \n",
       "\n",
       "     Type of apartment  No of Credits at this Bank  Occupation  \\\n",
       "0                    1                           1           3   \n",
       "1                    1                           2           3   \n",
       "2                    1                           1           2   \n",
       "3                    1                           2           2   \n",
       "4                    2                           2           2   \n",
       "..                 ...                         ...         ...   \n",
       "995                  1                           1           2   \n",
       "996                  2                           1           3   \n",
       "997                  3                           1           4   \n",
       "998                  2                           1           4   \n",
       "999                  2                           1           3   \n",
       "\n",
       "     No of dependents  Telephone  Foreign Worker  \n",
       "0                   1          1               1  \n",
       "1                   2          1               1  \n",
       "2                   1          1               1  \n",
       "3                   2          1               2  \n",
       "4                   1          1               2  \n",
       "..                ...        ...             ...  \n",
       "995                 2          1               1  \n",
       "996                 1          1               1  \n",
       "997                 1          2               1  \n",
       "998                 1          2               1  \n",
       "999                 1          1               1  \n",
       "\n",
       "[1000 rows x 21 columns]"
      ]
     },
     "execution_count": 2,
     "metadata": {},
     "output_type": "execute_result"
    }
   ],
   "source": [
    "df = pd.read_csv('datasets/german_credit.csv')\n",
    "df"
   ]
  },
  {
   "cell_type": "markdown",
   "id": "d8a2cba5",
   "metadata": {},
   "source": [
    "## Variables a discretizar"
   ]
  },
  {
   "cell_type": "markdown",
   "id": "c16156fa",
   "metadata": {},
   "source": [
    "- Duration of Credit (month): positive integer\n",
    "- Credit Amount: positive integer\n",
    "- Age (years): positive integer"
   ]
  },
  {
   "cell_type": "markdown",
   "id": "f563894f",
   "metadata": {},
   "source": [
    "### Duration of Credit"
   ]
  },
  {
   "cell_type": "code",
   "execution_count": 3,
   "id": "6f41113b",
   "metadata": {},
   "outputs": [
    {
     "data": {
      "text/plain": [
       "array([[<AxesSubplot:title={'center':'Duration of Credit (month)'}>]],\n",
       "      dtype=object)"
      ]
     },
     "execution_count": 3,
     "metadata": {},
     "output_type": "execute_result"
    },
    {
     "data": {
      "image/png": "[encoded data removed]",
      "text/plain": [
       "<Figure size 432x288 with 1 Axes>"
      ]
     },
     "metadata": {
      "needs_background": "light"
     },
     "output_type": "display_data"
    }
   ],
   "source": [
    "df.hist(column='Duration of Credit (month)', grid=False, color='cyan', ec='black')"
   ]
  },
  {
   "cell_type": "markdown",
   "id": "1fa8e664",
   "metadata": {},
   "source": [
    "Se puede ver con el histograma que no una discretizacion arbitraria eligiendo, por ejemplo, la cantidad de años, no seria ideal ya que habrian muchos datos de una categoria y pocos de otra."
   ]
  },
  {
   "cell_type": "code",
   "execution_count": 15,
   "id": "92978b59",
   "metadata": {},
   "outputs": [
    {
     "data": {
      "text/plain": [
       "0       (12.0, 18.0]\n",
       "1      (3.999, 12.0]\n",
       "2      (3.999, 12.0]\n",
       "3      (3.999, 12.0]\n",
       "4      (3.999, 12.0]\n",
       "           ...      \n",
       "995     (18.0, 24.0]\n",
       "996     (18.0, 24.0]\n",
       "997     (18.0, 24.0]\n",
       "998    (3.999, 12.0]\n",
       "999     (24.0, 72.0]\n",
       "Name: Duration of Credit (month), Length: 1000, dtype: category\n",
       "Categories (4, interval[float64, right]): [(3.999, 12.0] < (12.0, 18.0] < (18.0, 24.0] < (24.0, 72.0]]"
      ]
     },
     "execution_count": 15,
     "metadata": {},
     "output_type": "execute_result"
    }
   ],
   "source": [
    "pd.qcut(df['Duration of Credit (month)'], 4)"
   ]
  },
  {
   "cell_type": "markdown",
   "id": "952de98a",
   "metadata": {},
   "source": [
    "Optamos por las siguentes categorias:\n",
    "- 1 = < 12 meses (corto plazo)\n",
    "- 2 = 12 a 18 meses (corto-mediano plazo)\n",
    "- 2 = 19 a 24 meses (mediano-largo plazo)\n",
    "- 3 = >24 meses (largo plazo)"
   ]
  },
  {
   "cell_type": "code",
   "execution_count": 5,
   "id": "ae1dcaf4",
   "metadata": {},
   "outputs": [
    {
     "name": "stdout",
     "output_type": "stream",
     "text": [
      "Cantidad de elementos por categoria\n",
      "Categoria 1: 180\n",
      "Categoria 2: 253\n",
      "Categoria 3: 337\n",
      "Categoria 4: 230\n"
     ]
    }
   ],
   "source": [
    "credit_time = df['Duration of Credit (month)']\n",
    "cat1 = df[credit_time < 12]\n",
    "cat2 = df[(credit_time >= 12) & (credit_time < 18)]\n",
    "cat3 = df[(credit_time >= 18) & (credit_time < 25)]\n",
    "cat4 = df[credit_time >= 25]\n",
    "print(f\"Cantidad de elementos por categoria\")\n",
    "print(f\"Categoria 1: {len(cat1)}\")\n",
    "print(f\"Categoria 2: {len(cat2)}\")\n",
    "print(f\"Categoria 3: {len(cat3)}\")\n",
    "print(f\"Categoria 4: {len(cat4)}\")"
   ]
  },
  {
   "cell_type": "markdown",
   "id": "2780b9f2",
   "metadata": {},
   "source": [
    "### Credit Amount"
   ]
  },
  {
   "cell_type": "code",
   "execution_count": 6,
   "id": "99b977d0",
   "metadata": {
    "scrolled": true
   },
   "outputs": [
    {
     "data": {
      "text/plain": [
       "array([[<AxesSubplot:title={'center':'Credit Amount'}>]], dtype=object)"
      ]
     },
     "execution_count": 6,
     "metadata": {},
     "output_type": "execute_result"
    },
    {
     "data": {
      "image/png": "[encoded data removed]",
      "text/plain": [
       "<Figure size 432x288 with 1 Axes>"
      ]
     },
     "metadata": {
      "needs_background": "light"
     },
     "output_type": "display_data"
    }
   ],
   "source": [
    "df.hist(column='Credit Amount', grid=False, color='cyan', ec='black')"
   ]
  },
  {
   "cell_type": "code",
   "execution_count": 7,
   "id": "29ed372e",
   "metadata": {},
   "outputs": [
    {
     "data": {
      "text/plain": [
       "0      (249.999, 1262.0]\n",
       "1       (1906.8, 2852.4]\n",
       "2      (249.999, 1262.0]\n",
       "3       (1906.8, 2852.4]\n",
       "4       (1906.8, 2852.4]\n",
       "             ...        \n",
       "995     (1906.8, 2852.4]\n",
       "996     (1906.8, 2852.4]\n",
       "997    (4720.0, 18424.0]\n",
       "998    (4720.0, 18424.0]\n",
       "999    (4720.0, 18424.0]\n",
       "Name: Credit Amount, Length: 1000, dtype: category\n",
       "Categories (5, interval[float64, right]): [(249.999, 1262.0] < (1262.0, 1906.8] < (1906.8, 2852.4] < (2852.4, 4720.0] < (4720.0, 18424.0]]"
      ]
     },
     "execution_count": 7,
     "metadata": {},
     "output_type": "execute_result"
    }
   ],
   "source": [
    "pd.qcut(df['Credit Amount'], 5)"
   ]
  },
  {
   "cell_type": "code",
   "execution_count": 8,
   "id": "c0891880",
   "metadata": {},
   "outputs": [
    {
     "name": "stdout",
     "output_type": "stream",
     "text": [
      "Cantidad de elementos por categoria\n",
      "Categoria 1: 164\n",
      "Categoria 2: 268\n",
      "Categoria 3: 188\n",
      "Categoria 4: 192\n",
      "Categoria 5: 188\n"
     ]
    }
   ],
   "source": [
    "credit_amount = df['Credit Amount']\n",
    "cat1 = df[credit_amount < 1200]\n",
    "cat2 = df[(credit_amount >= 1200) & (credit_amount < 2000)]\n",
    "cat3 = df[(credit_amount >= 2000) & (credit_amount < 3000)]\n",
    "cat4 = df[(credit_amount >= 3000) & (credit_amount < 5000)]\n",
    "cat5 = df[credit_amount >= 5000]\n",
    "print(f\"Cantidad de elementos por categoria\")\n",
    "print(f\"Categoria 1: {len(cat1)}\")\n",
    "print(f\"Categoria 2: {len(cat2)}\")\n",
    "print(f\"Categoria 3: {len(cat3)}\")\n",
    "print(f\"Categoria 4: {len(cat4)}\")\n",
    "print(f\"Categoria 5: {len(cat5)}\")"
   ]
  },
  {
   "cell_type": "markdown",
   "id": "be1d9ac4",
   "metadata": {},
   "source": [
    "### Age (years)"
   ]
  },
  {
   "cell_type": "code",
   "execution_count": 9,
   "id": "3cc8b3c9",
   "metadata": {},
   "outputs": [
    {
     "data": {
      "text/plain": [
       "array([[<AxesSubplot:title={'center':'Age (years)'}>]], dtype=object)"
      ]
     },
     "execution_count": 9,
     "metadata": {},
     "output_type": "execute_result"
    },
    {
     "data": {
      "image/png": "[encoded data removed]",
      "text/plain": [
       "<Figure size 432x288 with 1 Axes>"
      ]
     },
     "metadata": {
      "needs_background": "light"
     },
     "output_type": "display_data"
    }
   ],
   "source": [
    "df.hist(column='Age (years)', grid=False, color='cyan', ec='black')"
   ]
  },
  {
   "cell_type": "code",
   "execution_count": 10,
   "id": "6500e6fa",
   "metadata": {},
   "outputs": [
    {
     "data": {
      "text/plain": [
       "0      (18.999, 27.0]\n",
       "1        (33.0, 42.0]\n",
       "2      (18.999, 27.0]\n",
       "3        (33.0, 42.0]\n",
       "4        (33.0, 42.0]\n",
       "            ...      \n",
       "995    (18.999, 27.0]\n",
       "996      (42.0, 75.0]\n",
       "997      (27.0, 33.0]\n",
       "998      (42.0, 75.0]\n",
       "999      (27.0, 33.0]\n",
       "Name: Age (years), Length: 1000, dtype: category\n",
       "Categories (4, interval[float64, right]): [(18.999, 27.0] < (27.0, 33.0] < (33.0, 42.0] < (42.0, 75.0]]"
      ]
     },
     "execution_count": 10,
     "metadata": {},
     "output_type": "execute_result"
    }
   ],
   "source": [
    "pd.qcut(df['Age (years)'], 4)"
   ]
  },
  {
   "cell_type": "code",
   "execution_count": 11,
   "id": "8f84ba07",
   "metadata": {},
   "outputs": [
    {
     "name": "stdout",
     "output_type": "stream",
     "text": [
      "Cantidad de elementos por categoria\n",
      "Categoria 1: 239\n",
      "Categoria 2: 275\n",
      "Categoria 3: 270\n",
      "Categoria 4: 216\n"
     ]
    }
   ],
   "source": [
    "age = df['Age (years)']\n",
    "cat1 = df[age < 27]\n",
    "cat2 = df[(age >= 27) & (age < 34)]\n",
    "cat3 = df[(age >= 34) & (age < 44)]\n",
    "cat4 = df[age >= 44]\n",
    "print(f\"Cantidad de elementos por categoria\")\n",
    "print(f\"Categoria 1: {len(cat1)}\")\n",
    "print(f\"Categoria 2: {len(cat2)}\")\n",
    "print(f\"Categoria 3: {len(cat3)}\")\n",
    "print(f\"Categoria 4: {len(cat4)}\")"
   ]
  }
 ],
 "metadata": {
  "kernelspec": {
   "display_name": "Python 3 (ipykernel)",
   "language": "python",
   "name": "python3"
  },
  "language_info": {
   "codemirror_mode": {
    "name": "ipython",
    "version": 3
   },
   "file_extension": ".py",
   "mimetype": "text/x-python",
   "name": "python",
   "nbconvert_exporter": "python",
   "pygments_lexer": "ipython3",
   "version": "3.8.10"
  }
 },
 "nbformat": 4,
 "nbformat_minor": 5
}
