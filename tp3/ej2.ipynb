{
 "cells": [
  {
   "cell_type": "code",
   "execution_count": 1,
   "id": "39334cad",
   "metadata": {},
   "outputs": [],
   "source": [
    "import numpy as np\n",
    "import pandas as pd\n",
    "import matplotlib.pyplot as plt\n",
    "from PIL import Image\n",
    "from sklearn import svm\n",
    "from sklearn.model_selection import train_test_split\n"
   ]
  },
  {
   "cell_type": "markdown",
   "id": "b86fcf19",
   "metadata": {},
   "source": [
    "## Construir y separar datos de entrenamiento y testeo"
   ]
  },
  {
   "cell_type": "code",
   "execution_count": 2,
   "id": "26507902",
   "metadata": {},
   "outputs": [],
   "source": [
    "from src.svm_utils import build_samples \n",
    "\n",
    "GRASS = 0\n",
    "COW = 1\n",
    "SKY = 2\n",
    "FARM = 3\n",
    "\n",
    "grass_samples, grass_predictions = build_samples('./images/pasto.jpg', class_value = GRASS)\n",
    "cow_samples, cow_predictions = build_samples('./images/vaca.jpg', class_value = COW)\n",
    "sky_samples, sky_predictions = build_samples('./images/cielo.jpg', class_value = SKY)\n",
    "\n",
    "X = np.append(np.append(grass_samples, cow_samples, axis=0), sky_samples, axis=0)\n",
    "f_X = np.append(np.append(grass_predictions, cow_predictions, axis=0), sky_predictions, axis=0)\n",
    "\n",
    "X_train, X_test, f_X_train, f_X_test = train_test_split(X, f_X, test_size=0.2, random_state=14)\n"
   ]
  },
  {
   "cell_type": "markdown",
   "id": "6db1b80c",
   "metadata": {},
   "source": [
    "## Clasificar la imagen campestre"
   ]
  },
  {
   "cell_type": "code",
   "execution_count": 3,
   "id": "6fb69f2a",
   "metadata": {},
   "outputs": [],
   "source": [
    "from src.svm_utils import svm_classify_image \n",
    "# from src.svm_utils import build_samples\n",
    "from datetime import datetime, timedelta\n",
    "\n",
    "# now = datetime.now()\n",
    "\n",
    "# svm_classify_image('./images/cow.jpg', X_train, f_X_train)\n",
    "\n",
    "# later = datetime.now()\n",
    "\n",
    "# # 6 minutikos en mi companera\n",
    "# print(later - now)"
   ]
  },
  {
   "cell_type": "markdown",
   "id": "f7fddd57",
   "metadata": {},
   "source": [
    "## Obtener las matrices de confusion y las precisiones"
   ]
  },
  {
   "cell_type": "code",
   "execution_count": null,
   "id": "0982a488",
   "metadata": {},
   "outputs": [],
   "source": [
    "from src.svm_utils import svm_get_precision \n",
    "\n",
    "def validate_c_values():\n",
    "    out_file = open('c_precision.csv', 'a')\n",
    "    \n",
    "    out_file.write('kernel,c value,train precision,test precision\\n')\n",
    "    \n",
    "    for c in range(5, 25, 5):\n",
    "        train_precision, test_precision = svm_get_precision(X_train, f_X_train, X_test, f_X_test, c)\n",
    "        out_file.write(f'linear,{c},{train_precision},{test_precision}\\n')\n",
    "\n",
    "    out_file.close()\n",
    "    \n",
    "def iterate_kernels():\n",
    "    kernels = ['linear', 'poly', 'rbf']\n",
    "\n",
    "    out_file = open('kernel_precision.csv', 'a')\n",
    "\n",
    "    for k in kernels:    \n",
    "        train_precision, test_precision = svm_get_precision(X_train, f_X_train, X_test, f_X_test, c=1.0, kernel=k)  \n",
    "        out_file.write(f'{k},1,{train_precision},{test_precision}\\n')\n",
    "\n",
    "    out_file.close()\n",
    "    \n",
    "    \n",
    "now = datetime.now()\n",
    "\n",
    "validate_c_values()\n",
    "        \n",
    "later = datetime.now()\n",
    "    \n",
    "print(later - now)"
   ]
  }
 ],
 "metadata": {
  "kernelspec": {
   "display_name": "Python 3 (ipykernel)",
   "language": "python",
   "name": "python3"
  },
  "language_info": {
   "codemirror_mode": {
    "name": "ipython",
    "version": 3
   },
   "file_extension": ".py",
   "mimetype": "text/x-python",
   "name": "python",
   "nbconvert_exporter": "python",
   "pygments_lexer": "ipython3",
   "version": "3.9.7"
  }
 },
 "nbformat": 4,
 "nbformat_minor": 5
}
